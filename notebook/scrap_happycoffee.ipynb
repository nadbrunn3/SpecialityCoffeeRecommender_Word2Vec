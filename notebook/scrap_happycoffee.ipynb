{
 "cells": [
  {
   "cell_type": "markdown",
   "id": "d95ba41c-c42d-4b98-9a84-ee441fbc60e6",
   "metadata": {},
   "source": [
    "# Happy Coffee"
   ]
  },
  {
   "cell_type": "code",
   "execution_count": 81,
   "id": "0421a701-03f8-4a89-811a-2ec9e24ac733",
   "metadata": {},
   "outputs": [],
   "source": [
    "import requests\n",
    "from bs4 import BeautifulSoup\n",
    "import time\n",
    "import random\n",
    "import re\n",
    "import pandas as pd\n",
    "import numpy as np\n",
    "import function"
   ]
  },
  {
   "cell_type": "code",
   "execution_count": 85,
   "id": "894c3af9-2298-44d9-9f9a-35bd4d416489",
   "metadata": {},
   "outputs": [],
   "source": [
    "url = 'https://www.happycoffee.org/shop/'\n",
    "soup = function.bs4(url)"
   ]
  },
  {
   "cell_type": "code",
   "execution_count": 86,
   "id": "adea6769-9a06-46fd-9024-b1345d3265b1",
   "metadata": {},
   "outputs": [],
   "source": [
    "# get all Urls:\n",
    "\n",
    "url = []\n",
    "\n",
    "for i in range(25): \n",
    "    coffee = soup.select('a.x-image.e3830-8.m2ye-d')[i]['href']\n",
    "    url.append(coffee)\n",
    "\n",
    "url = [i for i in url if 'probierset' not in i ]\n",
    "url"
   ]
  },
  {
   "cell_type": "code",
   "execution_count": 89,
   "id": "56a5fc7d-3c0e-4d3e-ab95-30feaa4febc9",
   "metadata": {},
   "outputs": [
    {
     "name": "stdout",
     "output_type": "stream",
     "text": [
      "Coffee number 0 extracted\n",
      "Coffee number 1 extracted\n",
      "Coffee number 2 extracted\n",
      "Coffee number 3 extracted\n",
      "Coffee number 4 extracted\n",
      "Coffee number 5 extracted\n",
      "Coffee number 6 extracted\n",
      "Coffee number 7 extracted\n",
      "Coffee number 8 extracted\n",
      "Coffee number 9 extracted\n",
      "Coffee number 10 extracted\n",
      "Coffee number 11 extracted\n",
      "Coffee number 12 extracted\n",
      "Coffee number 13 extracted\n",
      "Coffee number 14 extracted\n",
      "Coffee number 15 extracted\n",
      "Coffee number 16 extracted\n",
      "Coffee number 17 extracted\n",
      "Coffee number 18 extracted\n",
      "Coffee number 19 extracted\n"
     ]
    }
   ],
   "source": [
    "my_dict = {'coffee_title': [],\n",
    "          'roaster': [],\n",
    "          'coffee_origin': [],\n",
    "          'variety': [],\n",
    "          'ideal_for': [],\n",
    "          'production': [],\n",
    "          'flavor': []}\n",
    "\n",
    "for idx, url in enumerate(url):\n",
    "    \n",
    "    soup = function.bs4(url)\n",
    "    # Roaster\n",
    "    my_dict['roaster'].append('Happy Coffee')\n",
    "\n",
    "    # Title\n",
    "    try: \n",
    "        t = soup.select_one('h1.x-text-content-text-primary').text\n",
    "        my_dict['coffee_title'].append(t)\n",
    "    except:\n",
    "        my_dict['coffee_title'].append(np.NaN)\n",
    "\n",
    "    # Flavor    \n",
    "    try: \n",
    "        fl = soup.select('tbody > tr > td')[5].text\n",
    "        my_dict['flavor'].append(fl)\n",
    "    except:\n",
    "        my_dict['flavor'].append(np.NaN)\n",
    "\n",
    "    # Ideal for\n",
    "    try: \n",
    "        ifor = soup.select('tbody > tr > td')[3].text\n",
    "        my_dict['ideal_for'].append(ifor)\n",
    "    except:\n",
    "        my_dict['ideal_for'].append(np.NaN)\n",
    "\n",
    "\n",
    "    # Origin\n",
    "    try: \n",
    "        o = soup.select('tbody > tr > td')[11].text\n",
    "        my_dict['coffee_origin'].append(o)\n",
    "    except:\n",
    "        my_dict['coffee_origin'].append(np.NaN)\n",
    "\n",
    "\n",
    "    # Production\n",
    "    try:\n",
    "        pr = soup.select('tbody > tr > td')[13].text\n",
    "        my_dict['production'].append(pr)\n",
    "    except:\n",
    "        my_dict['production'].append(np.NaN)\n",
    "\n",
    "    # Variety\n",
    "    try: \n",
    "        v = soup.select('tbody > tr > td')[15].text\n",
    "        my_dict['variety'].append(v)\n",
    "    except:\n",
    "        my_dict['variety'].append(np.NaN)\n",
    "        \n",
    "    #\n",
    "    time.sleep(random.randint(1,2))\n",
    "    print('Coffee number {} extracted'.format(idx))"
   ]
  },
  {
   "cell_type": "code",
   "execution_count": 92,
   "id": "b4ea741b-9e85-42c6-9b5e-f0082ebc1e47",
   "metadata": {},
   "outputs": [],
   "source": [
    "df = pd.DataFrame.from_dict(my_dict)\n",
    "df['purchase'] = url"
   ]
  },
  {
   "cell_type": "code",
   "execution_count": 94,
   "id": "2741ffb7-323d-4432-989f-81d89b4a693d",
   "metadata": {},
   "outputs": [],
   "source": [
    "#df.to_csv('data_raw/happycoffee.csv')"
   ]
  },
  {
   "cell_type": "code",
   "execution_count": null,
   "id": "9f9b7e7a-cdd3-479d-8a48-c2ed10134e9e",
   "metadata": {},
   "outputs": [],
   "source": []
  }
 ],
 "metadata": {
  "kernelspec": {
   "display_name": "Python 3 (ipykernel)",
   "language": "python",
   "name": "python3"
  },
  "language_info": {
   "codemirror_mode": {
    "name": "ipython",
    "version": 3
   },
   "file_extension": ".py",
   "mimetype": "text/x-python",
   "name": "python",
   "nbconvert_exporter": "python",
   "pygments_lexer": "ipython3",
   "version": "3.9.12"
  },
  "widgets": {
   "application/vnd.jupyter.widget-state+json": {
    "state": {},
    "version_major": 2,
    "version_minor": 0
   }
  }
 },
 "nbformat": 4,
 "nbformat_minor": 5
}
