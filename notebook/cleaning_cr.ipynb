{
 "cells": [
  {
   "cell_type": "markdown",
   "id": "fc5fd941-77c5-48cd-bb0b-cc5f106f2019",
   "metadata": {},
   "source": [
    "# DATA CLEANING"
   ]
  },
  {
   "cell_type": "code",
   "execution_count": 374,
   "id": "f160d2c0-195a-4e1b-8845-18addaf68a80",
   "metadata": {},
   "outputs": [],
   "source": [
    "import re\n",
    "import pandas as pd\n",
    "import numpy as np\n",
    "import yaml\n",
    "import matplotlib.pyplot as plt\n",
    "import seaborn as sns"
   ]
  },
  {
   "cell_type": "code",
   "execution_count": 375,
   "id": "c4f43322-1532-4699-a1bc-437040a5c72f",
   "metadata": {},
   "outputs": [],
   "source": [
    "import warnings\n",
    "warnings.filterwarnings('ignore')"
   ]
  },
  {
   "cell_type": "markdown",
   "id": "0ca2fba5-ab86-45b0-9541-4fcdc24a8d80",
   "metadata": {},
   "source": [
    "# Coffee Review"
   ]
  },
  {
   "cell_type": "code",
   "execution_count": 720,
   "id": "9a56a08b-9a09-403c-a269-8ce76ddf3e0d",
   "metadata": {},
   "outputs": [],
   "source": [
    "df = pd.read_csv('../data_raw/coffee_review.csv')      "
   ]
  },
  {
   "cell_type": "code",
   "execution_count": 721,
   "id": "40afef14-bd4c-494b-852b-efb74ed5fd4a",
   "metadata": {},
   "outputs": [
    {
     "data": {
      "text/html": [
       "<div>\n",
       "<style scoped>\n",
       "    .dataframe tbody tr th:only-of-type {\n",
       "        vertical-align: middle;\n",
       "    }\n",
       "\n",
       "    .dataframe tbody tr th {\n",
       "        vertical-align: top;\n",
       "    }\n",
       "\n",
       "    .dataframe thead th {\n",
       "        text-align: right;\n",
       "    }\n",
       "</style>\n",
       "<table border=\"1\" class=\"dataframe\">\n",
       "  <thead>\n",
       "    <tr style=\"text-align: right;\">\n",
       "      <th></th>\n",
       "      <th>Unnamed: 0</th>\n",
       "      <th>coffee</th>\n",
       "      <th>cr_rating</th>\n",
       "      <th>coffee_origin</th>\n",
       "      <th>roaster</th>\n",
       "      <th>roaster_location</th>\n",
       "      <th>roast_level</th>\n",
       "      <th>aroma</th>\n",
       "      <th>acidity_structur</th>\n",
       "      <th>body</th>\n",
       "      <th>flavor</th>\n",
       "      <th>agtron</th>\n",
       "      <th>review</th>\n",
       "      <th>review_date</th>\n",
       "      <th>price_estimate</th>\n",
       "    </tr>\n",
       "  </thead>\n",
       "  <tbody>\n",
       "    <tr>\n",
       "      <th>0</th>\n",
       "      <td>0</td>\n",
       "      <td>Kenya</td>\n",
       "      <td>95</td>\n",
       "      <td>Nyeri growing region, south-central Kenya</td>\n",
       "      <td>CafeTaster</td>\n",
       "      <td>Taipei City, Taiwan</td>\n",
       "      <td>Medium-Light</td>\n",
       "      <td>9</td>\n",
       "      <td>9</td>\n",
       "      <td>9</td>\n",
       "      <td>9</td>\n",
       "      <td>62/77</td>\n",
       "      <td>Nuanced, multi-layered. Almond brittle, pomegr...</td>\n",
       "      <td>August 2022</td>\n",
       "      <td>NT $600/227 grams</td>\n",
       "    </tr>\n",
       "    <tr>\n",
       "      <th>1</th>\n",
       "      <td>1</td>\n",
       "      <td>Peru</td>\n",
       "      <td>92</td>\n",
       "      <td>Cusco Province, Peru</td>\n",
       "      <td>CafeTaster</td>\n",
       "      <td>Taipei City, Taiwan</td>\n",
       "      <td>Medium-Light</td>\n",
       "      <td>8</td>\n",
       "      <td>8</td>\n",
       "      <td>9</td>\n",
       "      <td>9</td>\n",
       "      <td>58/77</td>\n",
       "      <td>Rich-toned, chocolaty. Baking chocolate, cashe...</td>\n",
       "      <td>August 2022</td>\n",
       "      <td>NT $500/227 grams</td>\n",
       "    </tr>\n",
       "    <tr>\n",
       "      <th>2</th>\n",
       "      <td>2</td>\n",
       "      <td>San Jose Mexico</td>\n",
       "      <td>93</td>\n",
       "      <td>oatepec, Veracruz State, Mexico</td>\n",
       "      <td>JBC Coffee Roasters</td>\n",
       "      <td>Madison, Wisconsin</td>\n",
       "      <td>Medium-Light</td>\n",
       "      <td>9</td>\n",
       "      <td>8\\t\\t\\t\\t\\t\\t\\t</td>\n",
       "      <td>9</td>\n",
       "      <td>8</td>\n",
       "      <td>57/77</td>\n",
       "      <td>Evaluated as espresso. Richly chocolaty, deepl...</td>\n",
       "      <td>August 2022</td>\n",
       "      <td>$17.00/12 ounces</td>\n",
       "    </tr>\n",
       "    <tr>\n",
       "      <th>3</th>\n",
       "      <td>3</td>\n",
       "      <td>Bella Carmona Guatemala</td>\n",
       "      <td>93</td>\n",
       "      <td>Antigua growing region, Guatemala</td>\n",
       "      <td>JBC Coffee Roasters</td>\n",
       "      <td>Madison, Wisconsin</td>\n",
       "      <td>Medium-Light</td>\n",
       "      <td>9</td>\n",
       "      <td>8\\t\\t\\t\\t\\t\\t\\t</td>\n",
       "      <td>9</td>\n",
       "      <td>8</td>\n",
       "      <td>60/78</td>\n",
       "      <td>Evaluated as espresso. Caramel, almond butter,...</td>\n",
       "      <td>August 2022</td>\n",
       "      <td>$17.00/12 ounces</td>\n",
       "    </tr>\n",
       "    <tr>\n",
       "      <th>4</th>\n",
       "      <td>4</td>\n",
       "      <td>Karen J Kona Red Bourbon</td>\n",
       "      <td>96</td>\n",
       "      <td>Holualoa, North Kona growing district, “Big Is...</td>\n",
       "      <td>Hula Daddy Kona Coffee</td>\n",
       "      <td>Holualoa, Hawai’i</td>\n",
       "      <td>Medium-Light</td>\n",
       "      <td>10</td>\n",
       "      <td>9</td>\n",
       "      <td>8</td>\n",
       "      <td>10</td>\n",
       "      <td>58/78</td>\n",
       "      <td>Deep-toned, complexly layered, vibrantly aroma...</td>\n",
       "      <td>August 2022</td>\n",
       "      <td>$49.95/8 ounces</td>\n",
       "    </tr>\n",
       "  </tbody>\n",
       "</table>\n",
       "</div>"
      ],
      "text/plain": [
       "   Unnamed: 0                    coffee cr_rating  \\\n",
       "0           0                     Kenya        95   \n",
       "1           1                      Peru        92   \n",
       "2           2           San Jose Mexico        93   \n",
       "3           3   Bella Carmona Guatemala        93   \n",
       "4           4  Karen J Kona Red Bourbon        96   \n",
       "\n",
       "                                       coffee_origin                 roaster  \\\n",
       "0          Nyeri growing region, south-central Kenya              CafeTaster   \n",
       "1                               Cusco Province, Peru              CafeTaster   \n",
       "2                    oatepec, Veracruz State, Mexico     JBC Coffee Roasters   \n",
       "3                  Antigua growing region, Guatemala     JBC Coffee Roasters   \n",
       "4  Holualoa, North Kona growing district, “Big Is...  Hula Daddy Kona Coffee   \n",
       "\n",
       "      roaster_location   roast_level aroma acidity_structur body flavor  \\\n",
       "0  Taipei City, Taiwan  Medium-Light     9                9    9      9   \n",
       "1  Taipei City, Taiwan  Medium-Light     8                8    9      9   \n",
       "2   Madison, Wisconsin  Medium-Light     9  8\\t\\t\\t\\t\\t\\t\\t    9      8   \n",
       "3   Madison, Wisconsin  Medium-Light     9  8\\t\\t\\t\\t\\t\\t\\t    9      8   \n",
       "4    Holualoa, Hawai’i  Medium-Light    10                9    8     10   \n",
       "\n",
       "  agtron                                             review  review_date  \\\n",
       "0  62/77  Nuanced, multi-layered. Almond brittle, pomegr...  August 2022   \n",
       "1  58/77  Rich-toned, chocolaty. Baking chocolate, cashe...  August 2022   \n",
       "2  57/77  Evaluated as espresso. Richly chocolaty, deepl...  August 2022   \n",
       "3  60/78  Evaluated as espresso. Caramel, almond butter,...  August 2022   \n",
       "4  58/78  Deep-toned, complexly layered, vibrantly aroma...  August 2022   \n",
       "\n",
       "      price_estimate  \n",
       "0  NT $600/227 grams  \n",
       "1  NT $500/227 grams  \n",
       "2   $17.00/12 ounces  \n",
       "3   $17.00/12 ounces  \n",
       "4    $49.95/8 ounces  "
      ]
     },
     "execution_count": 721,
     "metadata": {},
     "output_type": "execute_result"
    }
   ],
   "source": [
    "df.head()"
   ]
  },
  {
   "cell_type": "code",
   "execution_count": 722,
   "id": "5568a1de-c0f0-4b6e-bc98-93b1f38399e5",
   "metadata": {},
   "outputs": [
    {
     "data": {
      "text/plain": [
       "0               Nyeri growing region, south-central Kenya\n",
       "1                                    Cusco Province, Peru\n",
       "2                         oatepec, Veracruz State, Mexico\n",
       "3                       Antigua growing region, Guatemala\n",
       "4       Holualoa, North Kona growing district, “Big Is...\n",
       "                              ...                        \n",
       "6752                                         Medium-Light\n",
       "6753                                                 Dark\n",
       "6754                                               Medium\n",
       "6755                                                Light\n",
       "6756                                          Medium-Dark\n",
       "Name: coffee_origin, Length: 6757, dtype: object"
      ]
     },
     "execution_count": 722,
     "metadata": {},
     "output_type": "execute_result"
    }
   ],
   "source": [
    "df.coffee_origin"
   ]
  },
  {
   "cell_type": "code",
   "execution_count": 723,
   "id": "1d85a798-1a75-4444-aeda-82d2b5fbc0f1",
   "metadata": {},
   "outputs": [
    {
     "data": {
      "text/plain": [
       "0               62/77\n",
       "1               58/77\n",
       "2               57/77\n",
       "3               60/78\n",
       "4               58/78\n",
       "            ...      \n",
       "6752    February 1997\n",
       "6753    February 1997\n",
       "6754    February 1997\n",
       "6755    February 1997\n",
       "6756    February 1997\n",
       "Name: agtron, Length: 6757, dtype: object"
      ]
     },
     "execution_count": 723,
     "metadata": {},
     "output_type": "execute_result"
    }
   ],
   "source": [
    "df.agtron"
   ]
  },
  {
   "cell_type": "code",
   "execution_count": 724,
   "id": "3de92051-4e3e-4434-8211-2ba639ccc052",
   "metadata": {},
   "outputs": [
    {
     "data": {
      "text/plain": [
       "Medium-Light    2897\n",
       "Medium          1507\n",
       "Medium-Dark      766\n",
       "Light            609\n",
       "Very Dark        386\n",
       "Dark             232\n",
       "/                230\n",
       "0/0               11\n",
       "Name: roast_level, dtype: int64"
      ]
     },
     "execution_count": 724,
     "metadata": {},
     "output_type": "execute_result"
    }
   ],
   "source": [
    "# When looking at the df it seems that the information that was scraped was slipping into different columns.         \n",
    "# Continuing forward I will focus on the most relevant information: Roast Level, Origin, Variety, Process\n",
    "\n",
    "level = ['Medium-Light', 'Light', 'Medium', 'Medium-Dark', 'Dark', 'Very Dark']\n",
    "\n",
    "index = []\n",
    "ml = []\n",
    "for idx, elem in enumerate(df['coffee_origin']): # Gathering Roast Level from Coffee Origin\n",
    "    if elem in level:\n",
    "        index.append(idx)\n",
    "        ml.append(elem)\n",
    "        \n",
    "\n",
    "agtron = df.roast_level.iloc[index] # Gathering the agtron values from the roast_level columns.\n",
    "df.agtron.iloc[index] = agtron # Set Agtron on the slipped indexes to agtron values collected from roast level column\n",
    "df.roast_level.iloc[index] = ml #Set Roast Level on the slipped indexes to ml (the roast levels)\n",
    "df.coffee_origin = [np.NaN if i in level else i for i in df.coffee_origin] # setting the extracted values to NaN "
   ]
  },
  {
   "cell_type": "code",
   "execution_count": 387,
   "id": "ddf2c075-74c8-4fe9-aa69-2f90b47a3b51",
   "metadata": {},
   "outputs": [],
   "source": [
    "# Picking the most relevant columns from the total dataframe:\n",
    "x = df[['coffee', 'coffee_origin', 'roaster', 'roast_level', 'review']]"
   ]
  },
  {
   "cell_type": "code",
   "execution_count": 389,
   "id": "62bec3a8-1c24-4fd4-98f2-b47e7cc4e9ba",
   "metadata": {},
   "outputs": [
    {
     "data": {
      "text/plain": [
       "coffee             0\n",
       "coffee_origin    513\n",
       "roaster            0\n",
       "roast_level      119\n",
       "review             4\n",
       "dtype: int64"
      ]
     },
     "execution_count": 389,
     "metadata": {},
     "output_type": "execute_result"
    }
   ],
   "source": [
    "#Dealing with NaNs\n",
    "x.isna().sum()"
   ]
  },
  {
   "cell_type": "code",
   "execution_count": 390,
   "id": "46ac073a-323d-4fab-985f-b375cd95b170",
   "metadata": {},
   "outputs": [
    {
     "data": {
      "text/plain": [
       "Not disclosed.                                                    372\n",
       "Guji Zone, Oromia Region, southern Ethiopia                       303\n",
       "Yirgacheffe growing region, southern Ethiopia                     143\n",
       "Not disclosed                                                     142\n",
       "Boquete growing region, western Panama                            137\n",
       "                                                                 ... \n",
       "Biolley, southern Costa Rica                                        1\n",
       "Nakuru County, south-central Kenya                                  1\n",
       "Ethiopia; Costa Rica; Panama                                        1\n",
       "Kirumba, North Kivu Province, Democratic Republic of the Congo      1\n",
       "Indonesia, Central and South America                                1\n",
       "Name: coffee_origin, Length: 2010, dtype: int64"
      ]
     },
     "execution_count": 390,
     "metadata": {},
     "output_type": "execute_result"
    }
   ],
   "source": [
    "x.coffee_origin.value_counts()"
   ]
  },
  {
   "cell_type": "code",
   "execution_count": 394,
   "id": "16f06ff9-c531-4ec8-b8c6-687d1afdea79",
   "metadata": {},
   "outputs": [],
   "source": [
    "#Setting all non informativ values to 'not disclosed'\n",
    "x.coffee_origin.loc[x.coffee_origin == 'Not disclosed.'] = 'not disclosed'\n",
    "x.coffee_origin.loc[x.coffee_origin == 'Not disclosed'] = 'not disclosed'\n",
    "x.coffee_origin = x.coffee_origin.fillna('not disclosed')"
   ]
  },
  {
   "cell_type": "code",
   "execution_count": 396,
   "id": "b6be8b04-ce83-40f0-870b-7f2cb20f769b",
   "metadata": {},
   "outputs": [],
   "source": [
    "# Coffee Origin is a combination of Country and Region: \n",
    "## Next Step is to split Origin into Country and Region Columns:\n",
    "\n",
    "x['coffee_country'] = [i.split(',')[-1] for i in x['coffee_origin']]\n",
    "\n",
    "# Removing the Country Part from Origin and saving it in new column Region\n",
    "x['coffee_region'] = [x['coffee_origin'][idx].replace(x['coffee_country'][idx], '') for idx, row in x.iterrows()]\n"
   ]
  },
  {
   "cell_type": "code",
   "execution_count": 400,
   "id": "b966f3b3-e5df-444a-b29a-7f8dafcad9fe",
   "metadata": {},
   "outputs": [
    {
     "data": {
      "text/plain": [
       "coffee              0\n",
       "coffee_origin       0\n",
       "roaster             0\n",
       "roast_level       119\n",
       "review              4\n",
       "coffee_country      0\n",
       "coffee_region       0\n",
       "dtype: int64"
      ]
     },
     "execution_count": 400,
     "metadata": {},
     "output_type": "execute_result"
    }
   ],
   "source": [
    "# Dealing with NaNs in Roast Level\n",
    "x.isna().sum()"
   ]
  },
  {
   "cell_type": "code",
   "execution_count": 401,
   "id": "8fab417a-a844-4c1e-bdf4-4df2df28a262",
   "metadata": {},
   "outputs": [
    {
     "data": {
      "text/plain": [
       "count             6638\n",
       "unique               8\n",
       "top       Medium-Light\n",
       "freq              2897\n",
       "Name: roast_level, dtype: object"
      ]
     },
     "execution_count": 401,
     "metadata": {},
     "output_type": "execute_result"
    }
   ],
   "source": [
    "x.roast_level.describe()"
   ]
  },
  {
   "cell_type": "code",
   "execution_count": 402,
   "id": "cd066b8f-0dfe-4f24-bc01-f65add42bd06",
   "metadata": {},
   "outputs": [
    {
     "data": {
      "text/plain": [
       "<AxesSubplot:xlabel='roast_level', ylabel='Count'>"
      ]
     },
     "execution_count": 402,
     "metadata": {},
     "output_type": "execute_result"
    },
    {
     "data": {
      "image/png": "[encoded data removed]",
      "text/plain": [
       "<Figure size 432x288 with 1 Axes>"
      ]
     },
     "metadata": {
      "needs_background": "light"
     },
     "output_type": "display_data"
    }
   ],
   "source": [
    "sns.histplot(x.roast_level)"
   ]
  },
  {
   "cell_type": "code",
   "execution_count": 403,
   "id": "2000e5a9-d786-46ea-abd5-eafd34fb0ae6",
   "metadata": {},
   "outputs": [
    {
     "data": {
      "text/plain": [
       "Medium-Light    2897\n",
       "Medium          1507\n",
       "Medium-Dark      766\n",
       "Light            609\n",
       "Very Dark        386\n",
       "Dark             232\n",
       "/                230\n",
       "0/0               11\n",
       "Name: roast_level, dtype: int64"
      ]
     },
     "execution_count": 403,
     "metadata": {},
     "output_type": "execute_result"
    }
   ],
   "source": [
    "x.roast_level.value_counts()"
   ]
  },
  {
   "cell_type": "code",
   "execution_count": 404,
   "id": "cf3d9fae-916a-42db-8d01-20445b681032",
   "metadata": {},
   "outputs": [],
   "source": [
    "# Clustering the Roast Levels into the most used Levesl by professionals:\n",
    "x.loc[x.roast_level == 'Very Dark', 'roast_level'] = 'Dark'\n",
    "x.loc[(x.roast_level == '/') | (x.roast_level == '0/0'), 'roast_level'] = 'Medium-Light'"
   ]
  },
  {
   "cell_type": "code",
   "execution_count": 406,
   "id": "95c0c6df-7018-4643-9c23-06457caaa302",
   "metadata": {},
   "outputs": [],
   "source": [
    "x.roast_level = x.roast_level.fillna(x.roast_level.mode()[0]) # Filling NaN with Mode "
   ]
  },
  {
   "cell_type": "code",
   "execution_count": 409,
   "id": "b23846b5-8f22-4286-b099-84ba39956003",
   "metadata": {},
   "outputs": [
    {
     "data": {
      "text/plain": [
       "coffee            0\n",
       "coffee_origin     0\n",
       "roaster           0\n",
       "roast_level       0\n",
       "review            4\n",
       "coffee_country    0\n",
       "coffee_region     0\n",
       "dtype: int64"
      ]
     },
     "execution_count": 409,
     "metadata": {},
     "output_type": "execute_result"
    }
   ],
   "source": [
    "# Only Review NaNs left\n",
    "x.isna().sum()"
   ]
  },
  {
   "cell_type": "code",
   "execution_count": 410,
   "id": "7f75dd94-7b29-4edc-a0c7-905be19946d0",
   "metadata": {},
   "outputs": [],
   "source": [
    "# Most important Column. Needed to have informative values. Dropping the NaNs\n",
    "x = x.drop(np.where(x.review.isna())[0], axis = 0)"
   ]
  },
  {
   "cell_type": "code",
   "execution_count": 411,
   "id": "c8f0824b-50c5-4157-9d5f-29d9757af8dc",
   "metadata": {},
   "outputs": [],
   "source": [
    "## Saving Cleaned DF\n",
    "# x.to_csv('../data_clean/coffee_review.csv', index=False)"
   ]
  },
  {
   "cell_type": "markdown",
   "id": "a219bde4-9853-4754-80d0-187c8125d1cd",
   "metadata": {},
   "source": [
    "# Misto Box"
   ]
  },
  {
   "cell_type": "code",
   "execution_count": 413,
   "id": "4753be71-5bd2-465e-a7b8-66b1a0b05879",
   "metadata": {},
   "outputs": [],
   "source": [
    "file = pd.read_csv('../data_raw/misto.csv')"
   ]
  },
  {
   "cell_type": "code",
   "execution_count": 414,
   "id": "ea634d40-9762-472a-bcfb-fc295dd7ef9a",
   "metadata": {},
   "outputs": [
    {
     "data": {
      "text/html": [
       "<div>\n",
       "<style scoped>\n",
       "    .dataframe tbody tr th:only-of-type {\n",
       "        vertical-align: middle;\n",
       "    }\n",
       "\n",
       "    .dataframe tbody tr th {\n",
       "        vertical-align: top;\n",
       "    }\n",
       "\n",
       "    .dataframe thead th {\n",
       "        text-align: right;\n",
       "    }\n",
       "</style>\n",
       "<table border=\"1\" class=\"dataframe\">\n",
       "  <thead>\n",
       "    <tr style=\"text-align: right;\">\n",
       "      <th></th>\n",
       "      <th>Unnamed: 0</th>\n",
       "      <th>coffee_title</th>\n",
       "      <th>roaster</th>\n",
       "      <th>coffee_origin</th>\n",
       "      <th>coffee_region</th>\n",
       "      <th>variety</th>\n",
       "      <th>farmer</th>\n",
       "      <th>roast_level</th>\n",
       "      <th>flavor</th>\n",
       "      <th>coffee_type</th>\n",
       "      <th>altitude</th>\n",
       "    </tr>\n",
       "  </thead>\n",
       "  <tbody>\n",
       "    <tr>\n",
       "      <th>0</th>\n",
       "      <td>0</td>\n",
       "      <td>Kenya Ichamama</td>\n",
       "      <td>Panther Coffee Roasters</td>\n",
       "      <td>Kenya</td>\n",
       "      <td>Nyeri</td>\n",
       "      <td>SL-28, SL-34, Ruiru 11, Batian</td>\n",
       "      <td>Othaya Farmers Cooperative Society</td>\n",
       "      <td>Light</td>\n",
       "      <td>['nectarine', 'jasmine', 'bright']</td>\n",
       "      <td>Single Origin</td>\n",
       "      <td>1850</td>\n",
       "    </tr>\n",
       "    <tr>\n",
       "      <th>1</th>\n",
       "      <td>1</td>\n",
       "      <td>Papua New Guinea AAK Cooperative</td>\n",
       "      <td>Sightglass Coffee</td>\n",
       "      <td>Papua New Guinea</td>\n",
       "      <td>Obura-Wonenara, Eastern Highlands</td>\n",
       "      <td>Bourbon, Caturra</td>\n",
       "      <td>AAK Cooperative</td>\n",
       "      <td>Medium</td>\n",
       "      <td>['pomegranate', 'lemon', 'complex']</td>\n",
       "      <td>Single Origin</td>\n",
       "      <td>1500-1650</td>\n",
       "    </tr>\n",
       "    <tr>\n",
       "      <th>2</th>\n",
       "      <td>2</td>\n",
       "      <td>Cold Brew</td>\n",
       "      <td>Barefoot Coffee Roasters</td>\n",
       "      <td>Guatemala</td>\n",
       "      <td>Huehuetenango</td>\n",
       "      <td>NaN</td>\n",
       "      <td>NaN</td>\n",
       "      <td>Medium</td>\n",
       "      <td>['chocolate', 'citrus', 'rich']</td>\n",
       "      <td>Single Origin</td>\n",
       "      <td>NaN</td>\n",
       "    </tr>\n",
       "    <tr>\n",
       "      <th>3</th>\n",
       "      <td>3</td>\n",
       "      <td>Capital Cold Brew Blend</td>\n",
       "      <td>Temple Coffee</td>\n",
       "      <td>Brazil, Colombia, Ethiopia</td>\n",
       "      <td>Campos Altos, Guji, Huila</td>\n",
       "      <td>NaN</td>\n",
       "      <td>NaN</td>\n",
       "      <td>Medium</td>\n",
       "      <td>['cherry', 'milk chocolate', 'vibrant']</td>\n",
       "      <td>Blend</td>\n",
       "      <td>1000-2000</td>\n",
       "    </tr>\n",
       "    <tr>\n",
       "      <th>4</th>\n",
       "      <td>4</td>\n",
       "      <td>Ethiopia Dur Feres</td>\n",
       "      <td>Methodical Coffee</td>\n",
       "      <td>Ethiopia</td>\n",
       "      <td>Sidama</td>\n",
       "      <td>74/158, 74/110, Setami, Mikicho</td>\n",
       "      <td>various small producers</td>\n",
       "      <td>Medium-light</td>\n",
       "      <td>['blueberry', 'blackberry', 'juicy']</td>\n",
       "      <td>Single Origin</td>\n",
       "      <td>1800</td>\n",
       "    </tr>\n",
       "  </tbody>\n",
       "</table>\n",
       "</div>"
      ],
      "text/plain": [
       "   Unnamed: 0                      coffee_title                   roaster  \\\n",
       "0           0                    Kenya Ichamama   Panther Coffee Roasters   \n",
       "1           1  Papua New Guinea AAK Cooperative         Sightglass Coffee   \n",
       "2           2                        Cold Brew   Barefoot Coffee Roasters   \n",
       "3           3           Capital Cold Brew Blend             Temple Coffee   \n",
       "4           4                Ethiopia Dur Feres         Methodical Coffee   \n",
       "\n",
       "                coffee_origin                      coffee_region  \\\n",
       "0                       Kenya                              Nyeri   \n",
       "1            Papua New Guinea  Obura-Wonenara, Eastern Highlands   \n",
       "2                   Guatemala                      Huehuetenango   \n",
       "3  Brazil, Colombia, Ethiopia          Campos Altos, Guji, Huila   \n",
       "4                    Ethiopia                             Sidama   \n",
       "\n",
       "                           variety                              farmer  \\\n",
       "0   SL-28, SL-34, Ruiru 11, Batian  Othaya Farmers Cooperative Society   \n",
       "1                 Bourbon, Caturra                     AAK Cooperative   \n",
       "2                              NaN                                 NaN   \n",
       "3                              NaN                                 NaN   \n",
       "4  74/158, 74/110, Setami, Mikicho             various small producers   \n",
       "\n",
       "    roast_level                                   flavor    coffee_type  \\\n",
       "0         Light       ['nectarine', 'jasmine', 'bright']  Single Origin   \n",
       "1        Medium      ['pomegranate', 'lemon', 'complex']  Single Origin   \n",
       "2        Medium          ['chocolate', 'citrus', 'rich']  Single Origin   \n",
       "3        Medium  ['cherry', 'milk chocolate', 'vibrant']          Blend   \n",
       "4  Medium-light     ['blueberry', 'blackberry', 'juicy']  Single Origin   \n",
       "\n",
       "    altitude  \n",
       "0       1850  \n",
       "1  1500-1650  \n",
       "2        NaN  \n",
       "3  1000-2000  \n",
       "4       1800  "
      ]
     },
     "execution_count": 414,
     "metadata": {},
     "output_type": "execute_result"
    }
   ],
   "source": [
    "file.head()"
   ]
  },
  {
   "cell_type": "code",
   "execution_count": 415,
   "id": "59306f83-800a-4297-8366-f2a9b42374db",
   "metadata": {},
   "outputs": [],
   "source": [
    "# Selecting most interesting columns:\n",
    "df = file[['coffee_title', 'roaster', 'coffee_origin', 'coffee_region', 'variety', 'roast_level', 'flavor']]"
   ]
  },
  {
   "cell_type": "code",
   "execution_count": 416,
   "id": "6116b857-bd11-4400-92f3-2e70b2679b00",
   "metadata": {},
   "outputs": [
    {
     "data": {
      "text/plain": [
       "coffee_title       0\n",
       "roaster            0\n",
       "coffee_origin     52\n",
       "coffee_region    455\n",
       "variety          239\n",
       "roast_level        0\n",
       "flavor             0\n",
       "dtype: int64"
      ]
     },
     "execution_count": 416,
     "metadata": {},
     "output_type": "execute_result"
    }
   ],
   "source": [
    "#Dealing with NaNs\n",
    "df.isna().sum()"
   ]
  },
  {
   "cell_type": "code",
   "execution_count": 418,
   "id": "6cb238a4-eeee-4fd3-9296-5546dfec17d6",
   "metadata": {},
   "outputs": [],
   "source": [
    "df.coffee_region = df.coffee_region.fillna('not disclosed') #Can not be filled with Mode (makes no sense)\n",
    "df.coffee_origin = df.coffee_origin.fillna('not disclosed') #Can not be filled with Mode (makes no sense)\n",
    "df.variety = df.variety.fillna('not disclosed') #Can not be filled with Mode (makes no sense)"
   ]
  },
  {
   "cell_type": "code",
   "execution_count": 424,
   "id": "b9e4617d-9371-42dc-a983-4e913342a1fd",
   "metadata": {
    "scrolled": true,
    "tags": []
   },
   "outputs": [],
   "source": [
    "# Cleaning Flavor\n",
    "for idx, elem in enumerate(df.flavor):\n",
    "    df.flavor[idx]= re.sub('\\W', ' ', elem)\n",
    "df.flavor = [i.strip() for i in df.flavor]"
   ]
  },
  {
   "cell_type": "code",
   "execution_count": 427,
   "id": "106015aa-60a0-4005-b35e-41cad971126f",
   "metadata": {},
   "outputs": [],
   "source": [
    "#df.to_csv('../data_clean/mistobox.csv', index=False)"
   ]
  },
  {
   "cell_type": "markdown",
   "id": "804e1228-7944-483d-a51a-7ad787dca805",
   "metadata": {},
   "source": [
    "# 19Grams"
   ]
  },
  {
   "cell_type": "code",
   "execution_count": 428,
   "id": "3757243f-a1b7-4f67-8e75-f6f5267be450",
   "metadata": {},
   "outputs": [],
   "source": [
    "file = pd.read_csv('../data_raw/19grams_filter.csv')"
   ]
  },
  {
   "cell_type": "code",
   "execution_count": 429,
   "id": "40fb6082-d8e6-4c9d-a2ff-f093b2c4249d",
   "metadata": {},
   "outputs": [
    {
     "data": {
      "text/html": [
       "<div>\n",
       "<style scoped>\n",
       "    .dataframe tbody tr th:only-of-type {\n",
       "        vertical-align: middle;\n",
       "    }\n",
       "\n",
       "    .dataframe tbody tr th {\n",
       "        vertical-align: top;\n",
       "    }\n",
       "\n",
       "    .dataframe thead th {\n",
       "        text-align: right;\n",
       "    }\n",
       "</style>\n",
       "<table border=\"1\" class=\"dataframe\">\n",
       "  <thead>\n",
       "    <tr style=\"text-align: right;\">\n",
       "      <th></th>\n",
       "      <th>Unnamed: 0</th>\n",
       "      <th>coffee_name</th>\n",
       "      <th>sca_rating</th>\n",
       "      <th>price/kg</th>\n",
       "      <th>coffee_variety</th>\n",
       "      <th>review</th>\n",
       "      <th>review2</th>\n",
       "      <th>roaster</th>\n",
       "      <th>purchase</th>\n",
       "      <th>type</th>\n",
       "    </tr>\n",
       "  </thead>\n",
       "  <tbody>\n",
       "    <tr>\n",
       "      <th>0</th>\n",
       "      <td>0</td>\n",
       "      <td>\\n                4 Llamas Geisha - Bolivien F...</td>\n",
       "      <td>Score: 90</td>\n",
       "      <td>NaN</td>\n",
       "      <td>Geisha</td>\n",
       "      <td>\\n      Mandarine, Grüner Apfel, Jasmin\\n</td>\n",
       "      <td>['Süße: ', 'Himbeer ', 'Schokolade', 'Säure: '...</td>\n",
       "      <td>19grams_coffee</td>\n",
       "      <td>https://19grams.coffee/</td>\n",
       "      <td>filter</td>\n",
       "    </tr>\n",
       "    <tr>\n",
       "      <th>1</th>\n",
       "      <td>1</td>\n",
       "      <td>\\n                Rockstar Coffee Club\\n      ...</td>\n",
       "      <td>NaN</td>\n",
       "      <td>\\nStückpreis\\n\\n\\n70,00 €\\n\\n/\\n pro \\nkg\\n   ...</td>\n",
       "      <td>NaN</td>\n",
       "      <td>NaN</td>\n",
       "      <td>NaN</td>\n",
       "      <td>19grams_coffee</td>\n",
       "      <td>https://19grams.coffee/</td>\n",
       "      <td>filter</td>\n",
       "    </tr>\n",
       "    <tr>\n",
       "      <th>2</th>\n",
       "      <td>2</td>\n",
       "      <td>\\n                Don Martin Geisha Enano - Co...</td>\n",
       "      <td>Score: 91</td>\n",
       "      <td>NaN</td>\n",
       "      <td>Geisha</td>\n",
       "      <td>\\n      Erdbeere, Clementine, Heckenkirsche\\n</td>\n",
       "      <td>['Süße: ', 'Wilderdbeere', 'Säure: ', 'Balsami...</td>\n",
       "      <td>19grams_coffee</td>\n",
       "      <td>https://19grams.coffee/</td>\n",
       "      <td>filter</td>\n",
       "    </tr>\n",
       "    <tr>\n",
       "      <th>3</th>\n",
       "      <td>3</td>\n",
       "      <td>\\n                Fazenda Santuàrio Sul Yirgac...</td>\n",
       "      <td>Score: 88</td>\n",
       "      <td>NaN</td>\n",
       "      <td>Yirgacheffe</td>\n",
       "      <td>\\n      Blaubeere, Haselnuss, Bergamotte\\n</td>\n",
       "      <td>['Süße: gebrannte ', 'Mandeln', 'Säure: ', 'We...</td>\n",
       "      <td>19grams_coffee</td>\n",
       "      <td>https://19grams.coffee/</td>\n",
       "      <td>filter</td>\n",
       "    </tr>\n",
       "    <tr>\n",
       "      <th>4</th>\n",
       "      <td>4</td>\n",
       "      <td>\\n                El Diviso Sidra - Kolumbien ...</td>\n",
       "      <td>Score: 89</td>\n",
       "      <td>NaN</td>\n",
       "      <td>Sidra</td>\n",
       "      <td>\\n      Aprikose, kandierter Ingwer, Nougat\\n</td>\n",
       "      <td>['Süße: ', 'Säure: ', 'Milchsäure', 'Mundgefüh...</td>\n",
       "      <td>19grams_coffee</td>\n",
       "      <td>https://19grams.coffee/</td>\n",
       "      <td>filter</td>\n",
       "    </tr>\n",
       "  </tbody>\n",
       "</table>\n",
       "</div>"
      ],
      "text/plain": [
       "   Unnamed: 0                                        coffee_name sca_rating  \\\n",
       "0           0  \\n                4 Llamas Geisha - Bolivien F...  Score: 90   \n",
       "1           1  \\n                Rockstar Coffee Club\\n      ...        NaN   \n",
       "2           2  \\n                Don Martin Geisha Enano - Co...  Score: 91   \n",
       "3           3  \\n                Fazenda Santuàrio Sul Yirgac...  Score: 88   \n",
       "4           4  \\n                El Diviso Sidra - Kolumbien ...  Score: 89   \n",
       "\n",
       "                                            price/kg coffee_variety  \\\n",
       "0                                                NaN         Geisha   \n",
       "1  \\nStückpreis\\n\\n\\n70,00 €\\n\\n/\\n pro \\nkg\\n   ...            NaN   \n",
       "2                                                NaN        Geisha    \n",
       "3                                                NaN    Yirgacheffe   \n",
       "4                                                NaN          Sidra   \n",
       "\n",
       "                                              review  \\\n",
       "0      \\n      Mandarine, Grüner Apfel, Jasmin\\n       \n",
       "1                                                NaN   \n",
       "2  \\n      Erdbeere, Clementine, Heckenkirsche\\n       \n",
       "3     \\n      Blaubeere, Haselnuss, Bergamotte\\n       \n",
       "4  \\n      Aprikose, kandierter Ingwer, Nougat\\n       \n",
       "\n",
       "                                             review2         roaster  \\\n",
       "0  ['Süße: ', 'Himbeer ', 'Schokolade', 'Säure: '...  19grams_coffee   \n",
       "1                                                NaN  19grams_coffee   \n",
       "2  ['Süße: ', 'Wilderdbeere', 'Säure: ', 'Balsami...  19grams_coffee   \n",
       "3  ['Süße: gebrannte ', 'Mandeln', 'Säure: ', 'We...  19grams_coffee   \n",
       "4  ['Süße: ', 'Säure: ', 'Milchsäure', 'Mundgefüh...  19grams_coffee   \n",
       "\n",
       "                  purchase    type  \n",
       "0  https://19grams.coffee/  filter  \n",
       "1  https://19grams.coffee/  filter  \n",
       "2  https://19grams.coffee/  filter  \n",
       "3  https://19grams.coffee/  filter  \n",
       "4  https://19grams.coffee/  filter  "
      ]
     },
     "execution_count": 429,
     "metadata": {},
     "output_type": "execute_result"
    }
   ],
   "source": [
    "file.head()"
   ]
  },
  {
   "cell_type": "code",
   "execution_count": 430,
   "id": "563fd02e-18e5-4754-b6f2-c0fd685a90c7",
   "metadata": {},
   "outputs": [],
   "source": [
    "# Picking most relevant columns\n",
    "df = file[['coffee_name', 'coffee_variety', 'review', 'review2', 'roaster']]"
   ]
  },
  {
   "cell_type": "code",
   "execution_count": 431,
   "id": "feb870aa-2d1e-4030-b537-f9c1939294bf",
   "metadata": {},
   "outputs": [
    {
     "data": {
      "text/plain": [
       "coffee_name       0\n",
       "coffee_variety    8\n",
       "review            1\n",
       "review2           3\n",
       "roaster           0\n",
       "dtype: int64"
      ]
     },
     "execution_count": 431,
     "metadata": {},
     "output_type": "execute_result"
    }
   ],
   "source": [
    "# Dealing with NaNs\n",
    "df.isna().sum()"
   ]
  },
  {
   "cell_type": "code",
   "execution_count": 432,
   "id": "a3123aa6-8915-4cf0-9872-a692a36fddbc",
   "metadata": {},
   "outputs": [],
   "source": [
    "df.coffee_variety = df.coffee_variety.fillna('not_disclosed')\n",
    "df.drop(np.where(df.review.isnull())[0], axis = 0) # Dropping the review NaN raws"
   ]
  },
  {
   "cell_type": "code",
   "execution_count": 437,
   "id": "3abade24-db80-47f3-bfd4-aa38ab8b6c0a",
   "metadata": {},
   "outputs": [],
   "source": [
    "# Coffee Name is again a compound of Name and Country\n",
    "# Splitting Coffee Name and setting new column Coffee Title\n",
    "\n",
    "df.coffee_name = [i.split('\\n')[1].strip() for i in df.coffee_name]\n",
    "df['coffee_title'] = [i.split('-')[0].strip() for i in df.coffee_name]\n",
    "\n",
    "# Splitting and extracting Coffee Country\n",
    "coffee_country = []\n",
    "for i in df.coffee_name:\n",
    "    try: \n",
    "        coffee_country.append(i.split('-')[1].strip())\n",
    "    except: \n",
    "        coffee_country.append('not disclosed')\n",
    "\n",
    "df['coffee_country'] = coffee_country"
   ]
  },
  {
   "cell_type": "code",
   "execution_count": 438,
   "id": "f7172728-7c14-4171-aea2-34c3253803e8",
   "metadata": {},
   "outputs": [
    {
     "data": {
      "text/plain": [
       "0                       Bolivien Filter\n",
       "1                         not disclosed\n",
       "2                     Costa Rica Filter\n",
       "3                      Brasilien Filter\n",
       "4                      Kolumbien Filter\n",
       "5                        Low Caf Filter\n",
       "6                         Ruanda Filter\n",
       "7                      Kolumbien Filter\n",
       "8                      Kolumbien Filter\n",
       "9                      Kolumbien Filter\n",
       "10    entkoffeinierter Kolumbien Filter\n",
       "11                         Filter Blend\n",
       "Name: coffee_country, dtype: object"
      ]
     },
     "execution_count": 438,
     "metadata": {},
     "output_type": "execute_result"
    }
   ],
   "source": [
    "df.coffee_country"
   ]
  },
  {
   "cell_type": "code",
   "execution_count": 439,
   "id": "62a23ee3-dd35-4d50-98cc-6962a4f666fc",
   "metadata": {},
   "outputs": [],
   "source": [
    "# Further cleaning\n",
    "country = ['Bolivien', 'Costa Rica', 'Brasilien', 'Kolumbien', 'Ruanda']\n",
    "df.coffee_country = [i.replace('Filter', '') for i in df.coffee_country] # Removing 'Filter'"
   ]
  },
  {
   "cell_type": "code",
   "execution_count": 440,
   "id": "d5a16994-1641-45af-9cd1-99cd4ccbee9e",
   "metadata": {},
   "outputs": [],
   "source": [
    "for idx, elem in enumerate(df.coffee_country):    \n",
    "    if elem.strip().replace('entkoffeinierter', '') in country: # Setting to country list\n",
    "        df.coffee_country[idx] = elem\n",
    "    else: \n",
    "        df.coffee_country[idx] = 'not disclosed' # or 'not disclosed'"
   ]
  },
  {
   "cell_type": "code",
   "execution_count": 444,
   "id": "342771d7-60ea-4298-93f0-8dc1c01baf48",
   "metadata": {},
   "outputs": [],
   "source": [
    "# Cleaning column review2\n",
    "\n",
    "df.review2 = df.review2.fillna('not disclosed')\n",
    "df.review2 = [re.sub('\\W', ' ', i) for i in df.review2]\n",
    "df.review2 = [i.replace('Süße', '') for i in df.review2]\n",
    "df.review2 = [i.replace('Säure', '') for i in df.review2]\n",
    "df.review2 = [i.replace('Mundgefühl', '') for i in df.review2]\n",
    "df.review2 = [i.replace('Körper', '') for i in df.review2]\n",
    "\n",
    "df.review2"
   ]
  },
  {
   "cell_type": "code",
   "execution_count": 445,
   "id": "78d3795f-af81-43a2-8715-0eb8c2d24191",
   "metadata": {},
   "outputs": [],
   "source": [
    "# combining review and review2 columns\n",
    "for idx, row in df.iterrows():\n",
    "    df.review[idx] = str(df.review[idx]) + str(df.review2[idx])\n",
    "    \n",
    "df.review = df['review'].str.replace('\\n', ' ')"
   ]
  },
  {
   "cell_type": "code",
   "execution_count": 447,
   "id": "e69f0aa8-1168-4d2a-a68c-4da1dd8c03d4",
   "metadata": {},
   "outputs": [
    {
     "data": {
      "text/plain": [
       "0            Mandarine, Grüner Apfel, Jasmin        ...\n",
       "1                                      nannot disclosed\n",
       "2            Erdbeere, Clementine, Heckenkirsche    ...\n",
       "3            Blaubeere, Haselnuss, Bergamotte       ...\n",
       "4            Aprikose, kandierter Ingwer, Nougat    ...\n",
       "5            Malz, Orange, weiße Schokolade         ...\n",
       "6            Erdbeere, Mango, Ahornsirup            ...\n",
       "7            Weiße Schokolade, Mandel, Birne        ...\n",
       "8            Honigmelone, Milchschokolade, Orangenbl...\n",
       "9            Karamell, Maracuja, Orange             ...\n",
       "10           Reife Feige, Brauner Zucker, Dunkle Sch...\n",
       "11           Weiße Schokolade, Melone, Orangenblüten...\n",
       "Name: review, dtype: object"
      ]
     },
     "execution_count": 447,
     "metadata": {},
     "output_type": "execute_result"
    }
   ],
   "source": [
    "df.review"
   ]
  },
  {
   "cell_type": "code",
   "execution_count": 448,
   "id": "b2260ce5-3bc3-492c-b28f-526af21fdde6",
   "metadata": {},
   "outputs": [],
   "source": [
    "df = df.drop(1, axis = 0) # Drop row one because of missing information"
   ]
  },
  {
   "cell_type": "code",
   "execution_count": 452,
   "id": "13239737-1056-4bec-8a22-ecb4de032cb5",
   "metadata": {},
   "outputs": [],
   "source": [
    "# Further cleaning\n",
    "df.coffee_country.iloc[9] = 'Kolumbien'\n",
    "df.coffee_country.iloc[10] = 'not disclosed'\n",
    "df.drop('review2', axis = 1, inplace=True)\n",
    "df.drop('coffee_name', axis = 1, inplace = True)\n",
    "\n",
    "# Renaming columns\n",
    "df.rename(columns =  {'coffee_variety': 'variety',\n",
    "                     'review': 'flavor_profil'})"
   ]
  },
  {
   "cell_type": "code",
   "execution_count": 454,
   "id": "3f40fd4a-9d88-4d92-9bea-57c98f9618ef",
   "metadata": {},
   "outputs": [],
   "source": [
    "#df.to_csv('../data_clean/19grams.csv', index=False)"
   ]
  },
  {
   "cell_type": "markdown",
   "id": "16132af6-9584-42d9-8065-fb5dba127b70",
   "metadata": {},
   "source": [
    "# CoffeeDiff"
   ]
  },
  {
   "cell_type": "code",
   "execution_count": 726,
   "id": "cb10a350-94c1-4d8e-8567-af65c4ed01f3",
   "metadata": {},
   "outputs": [],
   "source": [
    "file = pd.read_csv('../data_raw/coffeeDiff.csv')\n",
    "file.drop('Unnamed: 0', axis = 1, inplace=True)"
   ]
  },
  {
   "cell_type": "code",
   "execution_count": 727,
   "id": "dca65763-1466-447f-8724-1d4908a54f6b",
   "metadata": {},
   "outputs": [
    {
     "data": {
      "text/html": [
       "<div>\n",
       "<style scoped>\n",
       "    .dataframe tbody tr th:only-of-type {\n",
       "        vertical-align: middle;\n",
       "    }\n",
       "\n",
       "    .dataframe tbody tr th {\n",
       "        vertical-align: top;\n",
       "    }\n",
       "\n",
       "    .dataframe thead th {\n",
       "        text-align: right;\n",
       "    }\n",
       "</style>\n",
       "<table border=\"1\" class=\"dataframe\">\n",
       "  <thead>\n",
       "    <tr style=\"text-align: right;\">\n",
       "      <th></th>\n",
       "      <th>Unnamed: 0</th>\n",
       "      <th>coffee_title</th>\n",
       "      <th>coffee_origin</th>\n",
       "      <th>roaster_name</th>\n",
       "      <th>variety</th>\n",
       "      <th>production</th>\n",
       "      <th>roast_level</th>\n",
       "      <th>flavour</th>\n",
       "    </tr>\n",
       "  </thead>\n",
       "  <tbody>\n",
       "    <tr>\n",
       "      <th>0</th>\n",
       "      <td>0</td>\n",
       "      <td>Peruvian Café Femenino</td>\n",
       "      <td>Peru</td>\n",
       "      <td>Quirky Coffee Co</td>\n",
       "      <td>CaturraBourbonCatuai</td>\n",
       "      <td>Washed</td>\n",
       "      <td>Medium</td>\n",
       "      <td>ChocolateDark ChocolateSweetFloralBerryCherry</td>\n",
       "    </tr>\n",
       "    <tr>\n",
       "      <th>1</th>\n",
       "      <td>1</td>\n",
       "      <td>La-Azucena-Espresso</td>\n",
       "      <td>Colombia</td>\n",
       "      <td>Pact</td>\n",
       "      <td>Castillo</td>\n",
       "      <td>Washed</td>\n",
       "      <td>MediumEspresso</td>\n",
       "      <td>CaramelizedVanilla</td>\n",
       "    </tr>\n",
       "    <tr>\n",
       "      <th>2</th>\n",
       "      <td>2</td>\n",
       "      <td>Filter - Coffee Bundle 4 X 230g</td>\n",
       "      <td>China</td>\n",
       "      <td>Carnival</td>\n",
       "      <td>BourbonRobiaceae CoffeaCatimor / AtengJackson</td>\n",
       "      <td>Washed</td>\n",
       "      <td>LightFilter</td>\n",
       "      <td>CaramelizedHoneyRoseJasmineFloralBlueberryPome...</td>\n",
       "    </tr>\n",
       "    <tr>\n",
       "      <th>3</th>\n",
       "      <td>3</td>\n",
       "      <td>Colombia | Finca El Mirador</td>\n",
       "      <td>Rwanda</td>\n",
       "      <td>Roost</td>\n",
       "      <td>Bourbon</td>\n",
       "      <td>Washed</td>\n",
       "      <td>Medium Dark</td>\n",
       "      <td>CocoaMolassesFloral</td>\n",
       "    </tr>\n",
       "    <tr>\n",
       "      <th>4</th>\n",
       "      <td>4</td>\n",
       "      <td>Indian Monsooned Malabar Aa Green Coffee Beans</td>\n",
       "      <td>Ethiopia</td>\n",
       "      <td>Rave</td>\n",
       "      <td>Typica</td>\n",
       "      <td>Natural, Monsooned</td>\n",
       "      <td>Green</td>\n",
       "      <td>Roasted</td>\n",
       "    </tr>\n",
       "  </tbody>\n",
       "</table>\n",
       "</div>"
      ],
      "text/plain": [
       "   Unnamed: 0                                    coffee_title coffee_origin  \\\n",
       "0           0                          Peruvian Café Femenino          Peru   \n",
       "1           1                             La-Azucena-Espresso      Colombia   \n",
       "2           2                 Filter - Coffee Bundle 4 X 230g         China   \n",
       "3           3                     Colombia | Finca El Mirador        Rwanda   \n",
       "4           4  Indian Monsooned Malabar Aa Green Coffee Beans      Ethiopia   \n",
       "\n",
       "       roaster_name                                        variety  \\\n",
       "0  Quirky Coffee Co                           CaturraBourbonCatuai   \n",
       "1              Pact                                       Castillo   \n",
       "2          Carnival  BourbonRobiaceae CoffeaCatimor / AtengJackson   \n",
       "3             Roost                                        Bourbon   \n",
       "4              Rave                                         Typica   \n",
       "\n",
       "           production     roast_level  \\\n",
       "0              Washed          Medium   \n",
       "1              Washed  MediumEspresso   \n",
       "2              Washed     LightFilter   \n",
       "3              Washed     Medium Dark   \n",
       "4  Natural, Monsooned           Green   \n",
       "\n",
       "                                             flavour  \n",
       "0      ChocolateDark ChocolateSweetFloralBerryCherry  \n",
       "1                                 CaramelizedVanilla  \n",
       "2  CaramelizedHoneyRoseJasmineFloralBlueberryPome...  \n",
       "3                                CocoaMolassesFloral  \n",
       "4                                            Roasted  "
      ]
     },
     "execution_count": 727,
     "metadata": {},
     "output_type": "execute_result"
    }
   ],
   "source": [
    "file.head()"
   ]
  },
  {
   "cell_type": "code",
   "execution_count": 458,
   "id": "fbb5c006-5e66-4878-8cca-c55cda2d7d73",
   "metadata": {},
   "outputs": [
    {
     "data": {
      "text/plain": [
       "coffee_title      123\n",
       "coffee_origin      96\n",
       "roaster_name       97\n",
       "variety           630\n",
       "production        698\n",
       "roast_level      1123\n",
       "flavour           248\n",
       "dtype: int64"
      ]
     },
     "execution_count": 458,
     "metadata": {},
     "output_type": "execute_result"
    }
   ],
   "source": [
    "file.isna().sum()"
   ]
  },
  {
   "cell_type": "code",
   "execution_count": 460,
   "id": "89e5b7b5-15fd-44fc-b4ec-266012a02f4e",
   "metadata": {},
   "outputs": [],
   "source": [
    "file.dropna(subset = ['coffee_title'], inplace=True) # droping because vital for the model\n",
    "file.dropna(subset = ['flavour'], inplace=True)"
   ]
  },
  {
   "cell_type": "code",
   "execution_count": 462,
   "id": "dd61e2da-0eea-430f-948a-511331d82740",
   "metadata": {
    "scrolled": true,
    "tags": []
   },
   "outputs": [
    {
     "data": {
      "text/plain": [
       "Omni                    455\n",
       "Espresso                325\n",
       "Medium                  284\n",
       "Filter                  185\n",
       "MediumOmni              136\n",
       "Dark                    103\n",
       "Green                    99\n",
       "Medium Dark              89\n",
       "Light                    81\n",
       "MediumEspresso           69\n",
       "Medium Light             66\n",
       "MediumFilter             43\n",
       "Extra Dark               35\n",
       "DarkEspresso             29\n",
       "Medium DarkEspresso      27\n",
       "LightFilter              27\n",
       "DarkOmni                 26\n",
       "Medium LightOmni         25\n",
       "Medium DarkOmni          24\n",
       "LightOmni                23\n",
       "Medium LightFilter       14\n",
       "DarkFilter               14\n",
       "Extra DarkOmni           12\n",
       "LightEspresso             8\n",
       "Medium LightEspresso      8\n",
       "Medium DarkFilter         6\n",
       "Extra DarkEspresso        6\n",
       "GreenFilter               3\n",
       "Extra DarkFilter          3\n",
       "GreenEspresso             2\n",
       "Silly DarkEspresso        1\n",
       "Silly DarkOmni            1\n",
       "Extra LightEspresso       1\n",
       "GreenOmni                 1\n",
       "Name: roast_level, dtype: int64"
      ]
     },
     "execution_count": 462,
     "metadata": {},
     "output_type": "execute_result"
    }
   ],
   "source": [
    "# Huge amount fo different Roast Levels\n",
    "file.roast_level.value_counts()"
   ]
  },
  {
   "cell_type": "code",
   "execution_count": 467,
   "id": "93686e42-ecee-4a1a-bdaf-df1aef248f57",
   "metadata": {},
   "outputs": [],
   "source": [
    "# ASSUMTPION that Filter is roasted ligth, Omni medium and Espresso dark\n",
    "file.loc[file.roast_level == 'Filter', 'roast_level'] = 'Light'\n",
    "file.loc[file.roast_level == 'Espresso', 'roast_level'] = 'Dark'\n",
    "file.loc[file.roast_level == 'Omni', 'roast_level'] = 'Medium'\n",
    "\n",
    "# If dark, light or medium in Name i will label it as such: \n",
    "file.roast_level = [i.replace('Espresso', '') if not pd.isna(i) else np.NaN for i in file.roast_level ]\n",
    "file.roast_level = [i.replace('Filter', '') if not pd.isna(i) else np.NaN for i in file.roast_level ]\n",
    "file.roast_level = [i.replace('Omni', '') if not pd.isna(i) else np.NaN for i in file.roast_level ]\n",
    "file.roast_level = [i.replace('Extra', '') if not pd.isna(i) else np.NaN for i in file.roast_level ]\n",
    "file.roast_level = [i.replace('Silly', '') if not pd.isna(i) else np.NaN for i in file.roast_level ]\n"
   ]
  },
  {
   "cell_type": "code",
   "execution_count": 468,
   "id": "fa590b1e-81dc-4531-a12a-7b3f13930057",
   "metadata": {},
   "outputs": [
    {
     "data": {
      "text/plain": [
       "array(['Medium', 'Light', 'Medium Dark', 'Green', 'Dark', ' Dark',\n",
       "       'Medium Light', nan, ' Light'], dtype=object)"
      ]
     },
     "execution_count": 468,
     "metadata": {},
     "output_type": "execute_result"
    }
   ],
   "source": [
    "file.roast_level.unique()"
   ]
  },
  {
   "cell_type": "code",
   "execution_count": 469,
   "id": "7b5d8e7e-2a21-4a1c-9d0d-a9b359c4bc7a",
   "metadata": {},
   "outputs": [
    {
     "data": {
      "text/plain": [
       "coffee_title       0\n",
       "coffee_origin      0\n",
       "roaster_name       0\n",
       "variety          379\n",
       "production       446\n",
       "roast_level      896\n",
       "flavour            0\n",
       "dtype: int64"
      ]
     },
     "execution_count": 469,
     "metadata": {},
     "output_type": "execute_result"
    }
   ],
   "source": [
    "# Dealing with Flavor NaNs:\n",
    "file.isna().sum()"
   ]
  },
  {
   "cell_type": "code",
   "execution_count": 470,
   "id": "43c3135b-63b9-481e-9084-8406283df38a",
   "metadata": {},
   "outputs": [
    {
     "data": {
      "text/plain": [
       "0           ChocolateDark ChocolateSweetFloralBerryCherry\n",
       "1                                      CaramelizedVanilla\n",
       "2       CaramelizedHoneyRoseJasmineFloralBlueberryPome...\n",
       "3                                     CocoaMolassesFloral\n",
       "4                                                 Roasted\n",
       "                              ...                        \n",
       "3265                                       ChocolateWiney\n",
       "3266                                                Sweet\n",
       "3267                                                Nutty\n",
       "3268                                                Sweet\n",
       "3300                                          SweetFruity\n",
       "Name: flavour, Length: 3127, dtype: object"
      ]
     },
     "execution_count": 470,
     "metadata": {},
     "output_type": "execute_result"
    }
   ],
   "source": [
    "file.flavour"
   ]
  },
  {
   "cell_type": "code",
   "execution_count": 474,
   "id": "08737dc8-5fa8-41a4-b1bc-b117a3191ab0",
   "metadata": {},
   "outputs": [],
   "source": [
    "# Splitting Words: \n",
    "file.flavour = [re.findall('[A-Z][^A-Z]*', i) for i in file.flavour]\n",
    "\n",
    "# Change from list to string:\n",
    "for idx, flav in enumerate(file.flavour):\n",
    "    file.flavour[idx]= ' '.join(str(elem) for elem in flav).strip()\n",
    "    \n",
    "\n",
    "# Cleaning string:\n",
    "for idx, flav in enumerate(file.flavour):\n",
    "    file.flavour[idx]= re.sub('\\W', ' ', str(flav).strip())\n",
    "\n",
    "file.flavour"
   ]
  },
  {
   "cell_type": "code",
   "execution_count": 475,
   "id": "a47d2273-306d-477d-805b-10140641fac1",
   "metadata": {},
   "outputs": [],
   "source": [
    "#file.to_csv('../data_clean/coffeeDiff_all_flavours.csv', index=False)"
   ]
  },
  {
   "cell_type": "markdown",
   "id": "3f3e4327-abb0-4a87-a309-37e7bc85009e",
   "metadata": {},
   "source": [
    "# Reddit"
   ]
  },
  {
   "cell_type": "code",
   "execution_count": 728,
   "id": "19147cf2-337a-43b3-a6c2-ef6f9d575235",
   "metadata": {},
   "outputs": [],
   "source": [
    "file = pd.read_csv('../data_raw/Coffees-All Brews.csv')"
   ]
  },
  {
   "cell_type": "code",
   "execution_count": 729,
   "id": "c6aaccc0-d275-47e2-b5b2-cdbe715d9561",
   "metadata": {},
   "outputs": [
    {
     "data": {
      "text/html": [
       "<div>\n",
       "<style scoped>\n",
       "    .dataframe tbody tr th:only-of-type {\n",
       "        vertical-align: middle;\n",
       "    }\n",
       "\n",
       "    .dataframe tbody tr th {\n",
       "        vertical-align: top;\n",
       "    }\n",
       "\n",
       "    .dataframe thead th {\n",
       "        text-align: right;\n",
       "    }\n",
       "</style>\n",
       "<table border=\"1\" class=\"dataframe\">\n",
       "  <thead>\n",
       "    <tr style=\"text-align: right;\">\n",
       "      <th></th>\n",
       "      <th>Name</th>\n",
       "      <th>Currently Brewing</th>\n",
       "      <th>Personal Rating</th>\n",
       "      <th>Company</th>\n",
       "      <th>Origin</th>\n",
       "      <th>Flavors</th>\n",
       "      <th>Single Origin</th>\n",
       "      <th>Notes</th>\n",
       "      <th>Price (250g)</th>\n",
       "      <th>Image</th>\n",
       "      <th>Date</th>\n",
       "      <th>Process</th>\n",
       "      <th>Subscriptions</th>\n",
       "      <th>Count</th>\n",
       "    </tr>\n",
       "  </thead>\n",
       "  <tbody>\n",
       "    <tr>\n",
       "      <th>0</th>\n",
       "      <td>Sitio Tres Baras</td>\n",
       "      <td>checked</td>\n",
       "      <td>NaN</td>\n",
       "      <td>Brew Coffee Plus</td>\n",
       "      <td>Brazil</td>\n",
       "      <td>Cherry,Chocolate,Complex</td>\n",
       "      <td>checked</td>\n",
       "      <td>NaN</td>\n",
       "      <td>£10.00</td>\n",
       "      <td>2022-09-11 07.37.09.jpg (https://dl.airtable.c...</td>\n",
       "      <td>11.9.2022</td>\n",
       "      <td>Pulped Natural</td>\n",
       "      <td>NaN</td>\n",
       "      <td>1.0</td>\n",
       "    </tr>\n",
       "    <tr>\n",
       "      <th>1</th>\n",
       "      <td>Bookisa</td>\n",
       "      <td>checked</td>\n",
       "      <td>NaN</td>\n",
       "      <td>Coaltown</td>\n",
       "      <td>Ethiopia</td>\n",
       "      <td>Orange,Jasmine honeysuckle,Molasses</td>\n",
       "      <td>checked</td>\n",
       "      <td>NaN</td>\n",
       "      <td>£10.00</td>\n",
       "      <td>2022-09-10 12.27.39.jpg (https://dl.airtable.c...</td>\n",
       "      <td>10.9.2022</td>\n",
       "      <td>Natural</td>\n",
       "      <td>Coaltown</td>\n",
       "      <td>1.0</td>\n",
       "    </tr>\n",
       "    <tr>\n",
       "      <th>2</th>\n",
       "      <td>Rafael Amaya</td>\n",
       "      <td>NaN</td>\n",
       "      <td>3.0</td>\n",
       "      <td>The Roasting Shed</td>\n",
       "      <td>Colombia</td>\n",
       "      <td>Cacao nibs,Lychee,Rose petals</td>\n",
       "      <td>checked</td>\n",
       "      <td>200 hour fermentation, wild flavours!</td>\n",
       "      <td>£15.00</td>\n",
       "      <td>2022-09-04 12.56.24.jpg (https://dl.airtable.c...</td>\n",
       "      <td>1.9.2022</td>\n",
       "      <td>Natural</td>\n",
       "      <td>NaN</td>\n",
       "      <td>1.0</td>\n",
       "    </tr>\n",
       "    <tr>\n",
       "      <th>3</th>\n",
       "      <td>Finca Bethania</td>\n",
       "      <td>NaN</td>\n",
       "      <td>4.0</td>\n",
       "      <td>Yallah</td>\n",
       "      <td>Nicaragua</td>\n",
       "      <td>Tropical,Jammy,Guava,Syrupy-sweet</td>\n",
       "      <td>checked</td>\n",
       "      <td>NaN</td>\n",
       "      <td>£10.00</td>\n",
       "      <td>2022-08-18 09.28.37.jpg (https://dl.airtable.c...</td>\n",
       "      <td>18.8.2022</td>\n",
       "      <td>Natural</td>\n",
       "      <td>Yallah Explore</td>\n",
       "      <td>1.0</td>\n",
       "    </tr>\n",
       "    <tr>\n",
       "      <th>4</th>\n",
       "      <td>Jose Angel Parra</td>\n",
       "      <td>NaN</td>\n",
       "      <td>NaN</td>\n",
       "      <td>Coaltown</td>\n",
       "      <td>Colombia</td>\n",
       "      <td>Maple syrup,Demerara sugar,Plum</td>\n",
       "      <td>checked</td>\n",
       "      <td>NaN</td>\n",
       "      <td>£10.00</td>\n",
       "      <td>2022-08-13 07.06.47.jpg (https://dl.airtable.c...</td>\n",
       "      <td>11.8.2022</td>\n",
       "      <td>Washed</td>\n",
       "      <td>Coaltown</td>\n",
       "      <td>1.0</td>\n",
       "    </tr>\n",
       "  </tbody>\n",
       "</table>\n",
       "</div>"
      ],
      "text/plain": [
       "               Name Currently Brewing  Personal Rating            Company  \\\n",
       "0  Sitio Tres Baras           checked              NaN   Brew Coffee Plus   \n",
       "1          Bookisa            checked              NaN           Coaltown   \n",
       "2     Rafael Amaya                NaN              3.0  The Roasting Shed   \n",
       "3    Finca Bethania               NaN              4.0             Yallah   \n",
       "4  Jose Angel Parra               NaN              NaN           Coaltown   \n",
       "\n",
       "      Origin                              Flavors Single Origin  \\\n",
       "0     Brazil             Cherry,Chocolate,Complex       checked   \n",
       "1   Ethiopia  Orange,Jasmine honeysuckle,Molasses       checked   \n",
       "2   Colombia        Cacao nibs,Lychee,Rose petals       checked   \n",
       "3  Nicaragua    Tropical,Jammy,Guava,Syrupy-sweet       checked   \n",
       "4   Colombia      Maple syrup,Demerara sugar,Plum       checked   \n",
       "\n",
       "                                   Notes Price (250g)  \\\n",
       "0                                    NaN       £10.00   \n",
       "1                                    NaN       £10.00   \n",
       "2  200 hour fermentation, wild flavours!       £15.00   \n",
       "3                                    NaN       £10.00   \n",
       "4                                    NaN       £10.00   \n",
       "\n",
       "                                               Image       Date  \\\n",
       "0  2022-09-11 07.37.09.jpg (https://dl.airtable.c...  11.9.2022   \n",
       "1  2022-09-10 12.27.39.jpg (https://dl.airtable.c...  10.9.2022   \n",
       "2  2022-09-04 12.56.24.jpg (https://dl.airtable.c...   1.9.2022   \n",
       "3  2022-08-18 09.28.37.jpg (https://dl.airtable.c...  18.8.2022   \n",
       "4  2022-08-13 07.06.47.jpg (https://dl.airtable.c...  11.8.2022   \n",
       "\n",
       "          Process   Subscriptions  Count  \n",
       "0  Pulped Natural             NaN    1.0  \n",
       "1         Natural        Coaltown    1.0  \n",
       "2         Natural             NaN    1.0  \n",
       "3         Natural  Yallah Explore    1.0  \n",
       "4          Washed        Coaltown    1.0  "
      ]
     },
     "execution_count": 729,
     "metadata": {},
     "output_type": "execute_result"
    }
   ],
   "source": [
    "display(file.head())\n",
    "\n",
    "# select most relevant columns\n",
    "df = file[['Name', 'Company', 'Origin', 'Flavors', 'Process']]\n",
    "\n",
    "#rename columns\n",
    "df.columns = ['coffee_title', 'roaster', 'coffee_country', 'flavours', 'Production']"
   ]
  },
  {
   "cell_type": "code",
   "execution_count": 480,
   "id": "1db6ff63-b522-4595-9043-4cf07421e333",
   "metadata": {},
   "outputs": [],
   "source": [
    "df.dropna(inplace=True) # Dropping all NaNs"
   ]
  },
  {
   "cell_type": "code",
   "execution_count": 484,
   "id": "254c8c74-91bf-48e4-aa00-2773e64960c4",
   "metadata": {},
   "outputs": [],
   "source": [
    "#df.to_csv('../data_clean/reddit.csv', index=False)"
   ]
  },
  {
   "cell_type": "markdown",
   "id": "6659cfb1-6879-46f4-a0b3-c092be05e057",
   "metadata": {},
   "source": [
    "# Fellow"
   ]
  },
  {
   "cell_type": "code",
   "execution_count": 487,
   "id": "d9036dca-7977-4ac6-89d9-c249ecf758a9",
   "metadata": {},
   "outputs": [],
   "source": [
    "file = pd.read_csv('../data_raw/fellow_abo.csv')\n",
    "\n",
    "file.drop('Unnamed: 0', axis = 1, inplace=True\n",
    "file.isna().sum()\n",
    "          \n",
    "#No cleaning needed :D"
   ]
  },
  {
   "cell_type": "code",
   "execution_count": 488,
   "id": "a9af9034-92d4-49ff-be31-02443bcf9ea5",
   "metadata": {},
   "outputs": [],
   "source": [
    "#file.to_csv('../data_clean/fellow.csv', index = False)"
   ]
  },
  {
   "cell_type": "markdown",
   "id": "9af60531-ef43-460e-a9d7-0ad1dbe92783",
   "metadata": {},
   "source": [
    "# Gardelli"
   ]
  },
  {
   "cell_type": "code",
   "execution_count": 735,
   "id": "c52ca0de-1262-4500-95ea-6ddb3898793d",
   "metadata": {},
   "outputs": [],
   "source": [
    "file = pd.read_csv('../data_raw/gardelli.csv')"
   ]
  },
  {
   "cell_type": "code",
   "execution_count": 736,
   "id": "848e0cee-c7f6-458d-9442-f60df80fb271",
   "metadata": {},
   "outputs": [],
   "source": [
    "df= file[['title', 'land', 'region', 'variety', 'aufbereitung', 'review_text']]"
   ]
  },
  {
   "cell_type": "code",
   "execution_count": 737,
   "id": "c1336b0e-8473-4027-8549-3ad92429b5cf",
   "metadata": {},
   "outputs": [
    {
     "data": {
      "text/html": [
       "<div>\n",
       "<style scoped>\n",
       "    .dataframe tbody tr th:only-of-type {\n",
       "        vertical-align: middle;\n",
       "    }\n",
       "\n",
       "    .dataframe tbody tr th {\n",
       "        vertical-align: top;\n",
       "    }\n",
       "\n",
       "    .dataframe thead th {\n",
       "        text-align: right;\n",
       "    }\n",
       "</style>\n",
       "<table border=\"1\" class=\"dataframe\">\n",
       "  <thead>\n",
       "    <tr style=\"text-align: right;\">\n",
       "      <th></th>\n",
       "      <th>title</th>\n",
       "      <th>land</th>\n",
       "      <th>region</th>\n",
       "      <th>variety</th>\n",
       "      <th>aufbereitung</th>\n",
       "      <th>review_text</th>\n",
       "    </tr>\n",
       "  </thead>\n",
       "  <tbody>\n",
       "    <tr>\n",
       "      <th>0</th>\n",
       "      <td>Ninety Plus Competition Set (Panama)</td>\n",
       "      <td>Silla de Pando, Volcan</td>\n",
       "      <td>1500-1700 masl</td>\n",
       "      <td>March 2020</td>\n",
       "      <td>Geisha</td>\n",
       "      <td>Yuzu Lemon / Loquat / Sidr Honey / YogurtUBO 5...</td>\n",
       "    </tr>\n",
       "    <tr>\n",
       "      <th>1</th>\n",
       "      <td>La Siria, Geisha (Colombia)</td>\n",
       "      <td>Colombia</td>\n",
       "      <td>Huila</td>\n",
       "      <td>Geisha</td>\n",
       "      <td>Classic Washed</td>\n",
       "      <td>Lemongrass / Lavender/ Rosemary/ Lime/Mandarine</td>\n",
       "    </tr>\n",
       "    <tr>\n",
       "      <th>2</th>\n",
       "      <td>Inmaculada, Sudan Rume (Colombia)</td>\n",
       "      <td>Colombia</td>\n",
       "      <td>Cauca</td>\n",
       "      <td>Sudan Rume</td>\n",
       "      <td>Anaerobic Natural</td>\n",
       "      <td>Vanilla / Mango / Orange / Lychee / Red Grape</td>\n",
       "    </tr>\n",
       "    <tr>\n",
       "      <th>3</th>\n",
       "      <td>Francis Kipsang (Uganda)</td>\n",
       "      <td>Uganda</td>\n",
       "      <td>Sipi Falls</td>\n",
       "      <td>SL28</td>\n",
       "      <td>Gardelli Orange</td>\n",
       "      <td>Elder Flower/ Mango/ Peach/Pear / Kiwi</td>\n",
       "    </tr>\n",
       "    <tr>\n",
       "      <th>4</th>\n",
       "      <td>Hassan Al Amer (Yemen)</td>\n",
       "      <td>Yemen</td>\n",
       "      <td>Haraz</td>\n",
       "      <td>Yemen heirlooms</td>\n",
       "      <td>Anaerobic Natural</td>\n",
       "      <td>Rose/ Chamomile/ Hibiscus/ Blood Orange/ Cloves</td>\n",
       "    </tr>\n",
       "  </tbody>\n",
       "</table>\n",
       "</div>"
      ],
      "text/plain": [
       "                                  title                    land  \\\n",
       "0  Ninety Plus Competition Set (Panama)  Silla de Pando, Volcan   \n",
       "1           La Siria, Geisha (Colombia)                Colombia   \n",
       "2     Inmaculada, Sudan Rume (Colombia)                Colombia   \n",
       "3              Francis Kipsang (Uganda)                  Uganda   \n",
       "4                Hassan Al Amer (Yemen)                   Yemen   \n",
       "\n",
       "           region          variety       aufbereitung  \\\n",
       "0  1500-1700 masl       March 2020             Geisha   \n",
       "1           Huila           Geisha     Classic Washed   \n",
       "2           Cauca       Sudan Rume  Anaerobic Natural   \n",
       "3      Sipi Falls             SL28    Gardelli Orange   \n",
       "4           Haraz  Yemen heirlooms  Anaerobic Natural   \n",
       "\n",
       "                                         review_text  \n",
       "0  Yuzu Lemon / Loquat / Sidr Honey / YogurtUBO 5...  \n",
       "1    Lemongrass / Lavender/ Rosemary/ Lime/Mandarine  \n",
       "2     Vanilla / Mango / Orange / Lychee / Red Grape   \n",
       "3             Elder Flower/ Mango/ Peach/Pear / Kiwi  \n",
       "4    Rose/ Chamomile/ Hibiscus/ Blood Orange/ Cloves  "
      ]
     },
     "execution_count": 737,
     "metadata": {},
     "output_type": "execute_result"
    }
   ],
   "source": [
    "df.head()"
   ]
  },
  {
   "cell_type": "code",
   "execution_count": 738,
   "id": "01a93a45-19dd-463f-9430-dac8206b5a9f",
   "metadata": {},
   "outputs": [],
   "source": [
    "# Manually Cleaning\n",
    "\n",
    "df.land[14] = 'Ethiopia'\n",
    "df.region[14] = 'Yirgacheffe'\n",
    "df.variety[14] = df.aufbereitung[14]\n",
    "df.aufbereitung[16] = df.region[16]\n",
    "df.land[16] = 'Guatemala'\n",
    "df.region[16] = 'Finca Bella Vista'\n",
    "df.aufbereitung[16] = np.NaN\n",
    "df.region[0] = df.land[0]\n",
    "df.variety[0] = 'Geisha'\n",
    "df.aufbereitung[0] = np.NaN\n",
    "df.land = 'Panama'\n",
    "df.aufbereitung[14] = np.NaN"
   ]
  },
  {
   "cell_type": "code",
   "execution_count": 741,
   "id": "5d98f48d-c99b-4f06-b18e-ebda4a87de79",
   "metadata": {},
   "outputs": [],
   "source": [
    "df.aufbereitung= df.aufbereitung.fillna(df.aufbereitung.mode()[0]) #Fill NaN with Mode"
   ]
  },
  {
   "cell_type": "code",
   "execution_count": 743,
   "id": "f51bbf68-be65-4dbd-8f81-86a2ca41020a",
   "metadata": {},
   "outputs": [],
   "source": [
    "#df.to_csv('../data_clean/gardelli.csv', index=False)"
   ]
  },
  {
   "cell_type": "markdown",
   "id": "bf329f83-9bce-41c8-9f35-bc5adbb3a797",
   "metadata": {},
   "source": [
    "# Happy Coffee"
   ]
  },
  {
   "cell_type": "code",
   "execution_count": 506,
   "id": "aa07392d-5aeb-475d-b398-393e00c34925",
   "metadata": {},
   "outputs": [],
   "source": [
    "file = pd.read_csv('../data_raw/happycoffee.csv')"
   ]
  },
  {
   "cell_type": "code",
   "execution_count": 508,
   "id": "907856de-f610-4a83-bdc3-675c116801f5",
   "metadata": {},
   "outputs": [],
   "source": [
    "file.isna().sum()\n",
    "\n",
    "df = file[['coffee_title', 'roaster', 'coffee_origin', 'variety', 'production', 'flavor']]\n",
    "\n",
    "# Happy Coffee is not useful for now!"
   ]
  },
  {
   "cell_type": "markdown",
   "id": "65814f9f-b7f0-4f14-b26d-879c82cbf89b",
   "metadata": {},
   "source": [
    "# Kaffeezentrale"
   ]
  },
  {
   "cell_type": "code",
   "execution_count": 744,
   "id": "32e973ed-bd95-44b2-b256-08cea98f26fe",
   "metadata": {},
   "outputs": [],
   "source": [
    "file = pd.read_csv('../data_raw/kaffeezentrale.csv')"
   ]
  },
  {
   "cell_type": "code",
   "execution_count": 745,
   "id": "81eb3053-e5ff-43ad-b4a7-1d4c21437070",
   "metadata": {},
   "outputs": [],
   "source": [
    "df = file[['coffee_title', 'review_text']] # Select most important columns"
   ]
  },
  {
   "cell_type": "code",
   "execution_count": 746,
   "id": "2f22ef9d-a147-457d-aaa1-e52866669413",
   "metadata": {},
   "outputs": [
    {
     "data": {
      "text/plain": [
       "coffee_title    3\n",
       "review_text     6\n",
       "dtype: int64"
      ]
     },
     "execution_count": 746,
     "metadata": {},
     "output_type": "execute_result"
    }
   ],
   "source": [
    "df.isna().sum()"
   ]
  },
  {
   "cell_type": "code",
   "execution_count": 747,
   "id": "db9e18ad-e4a1-427f-8300-392ef18be518",
   "metadata": {},
   "outputs": [],
   "source": [
    "df.dropna(inplace=True)\n",
    "#ONLY FLAVOURS"
   ]
  },
  {
   "cell_type": "code",
   "execution_count": 748,
   "id": "005cc64f-4ae8-476d-860b-4b16e10dece2",
   "metadata": {},
   "outputs": [
    {
     "data": {
      "text/html": [
       "<div>\n",
       "<style scoped>\n",
       "    .dataframe tbody tr th:only-of-type {\n",
       "        vertical-align: middle;\n",
       "    }\n",
       "\n",
       "    .dataframe tbody tr th {\n",
       "        vertical-align: top;\n",
       "    }\n",
       "\n",
       "    .dataframe thead th {\n",
       "        text-align: right;\n",
       "    }\n",
       "</style>\n",
       "<table border=\"1\" class=\"dataframe\">\n",
       "  <thead>\n",
       "    <tr style=\"text-align: right;\">\n",
       "      <th></th>\n",
       "      <th>coffee_title</th>\n",
       "      <th>review_text</th>\n",
       "    </tr>\n",
       "  </thead>\n",
       "  <tbody>\n",
       "    <tr>\n",
       "      <th>0</th>\n",
       "      <td>Cerutti Â«il CaffÃ¨Â» Milano</td>\n",
       "      <td>Vollmundig, gehaltvoll, schokoladig und leicht...</td>\n",
       "    </tr>\n",
       "    <tr>\n",
       "      <th>1</th>\n",
       "      <td>New York Extra (Bluemountain)</td>\n",
       "      <td>schokoladig, voll, rund, lang anhaltend</td>\n",
       "    </tr>\n",
       "    <tr>\n",
       "      <th>2</th>\n",
       "      <td>BlasercafÃ© Lilla e Rose</td>\n",
       "      <td>Ausgesprochen angenehm rund, aber sehr wuchtig</td>\n",
       "    </tr>\n",
       "    <tr>\n",
       "      <th>3</th>\n",
       "      <td>Black and Blaze Premium</td>\n",
       "      <td>Schokoladig, zartbitter, sehr sÃ¼ss und vollmu...</td>\n",
       "    </tr>\n",
       "    <tr>\n",
       "      <th>4</th>\n",
       "      <td>CaffÃ¨ Ferrari Espresso Milano</td>\n",
       "      <td>kraftvoll, aromatisch, sÃ¤urearm, lang anhaltend</td>\n",
       "    </tr>\n",
       "  </tbody>\n",
       "</table>\n",
       "</div>"
      ],
      "text/plain": [
       "                     coffee_title  \\\n",
       "0    Cerutti Â«il CaffÃ¨Â» Milano   \n",
       "1  New York Extra (Bluemountain)    \n",
       "2        BlasercafÃ© Lilla e Rose   \n",
       "3         Black and Blaze Premium   \n",
       "4  CaffÃ¨ Ferrari Espresso Milano   \n",
       "\n",
       "                                         review_text  \n",
       "0  Vollmundig, gehaltvoll, schokoladig und leicht...  \n",
       "1            schokoladig, voll, rund, lang anhaltend  \n",
       "2     Ausgesprochen angenehm rund, aber sehr wuchtig  \n",
       "3  Schokoladig, zartbitter, sehr sÃ¼ss und vollmu...  \n",
       "4   kraftvoll, aromatisch, sÃ¤urearm, lang anhaltend  "
      ]
     },
     "execution_count": 748,
     "metadata": {},
     "output_type": "execute_result"
    }
   ],
   "source": [
    "df.head()"
   ]
  },
  {
   "cell_type": "code",
   "execution_count": 514,
   "id": "857dc40f-651c-4914-b8b1-7ff842971ab4",
   "metadata": {},
   "outputs": [],
   "source": [
    "#df.to_csv('../data_clean/kaffeezentrale.csv')"
   ]
  },
  {
   "cell_type": "markdown",
   "id": "19fa994a-68f3-48be-9b47-367ec7c270f6",
   "metadata": {},
   "source": [
    "# Kaffeeothek"
   ]
  },
  {
   "cell_type": "code",
   "execution_count": 749,
   "id": "f10d3e2d-d6b7-4cae-915f-04606357b6be",
   "metadata": {},
   "outputs": [],
   "source": [
    "file = pd.read_csv('../data_raw/kaffeothek.csv')\n",
    "file.drop('Unnamed: 0', axis=1, inplace=True)"
   ]
  },
  {
   "cell_type": "code",
   "execution_count": 752,
   "id": "08249e31-8892-452f-ae07-34846b9804c5",
   "metadata": {},
   "outputs": [],
   "source": [
    "# Combining descriptor columns and dropping original columns:\n",
    "file['review_text'] = file.description + file.aroma_desrciptor\n",
    "file.drop('aroma_desrciptor', axis=1, inplace=True)\n",
    "file.drop('description', axis=1, inplace=True)"
   ]
  },
  {
   "cell_type": "code",
   "execution_count": 753,
   "id": "c318480a-b9ab-4145-8afe-2f78767112c6",
   "metadata": {},
   "outputs": [
    {
     "data": {
      "text/html": [
       "<div>\n",
       "<style scoped>\n",
       "    .dataframe tbody tr th:only-of-type {\n",
       "        vertical-align: middle;\n",
       "    }\n",
       "\n",
       "    .dataframe tbody tr th {\n",
       "        vertical-align: top;\n",
       "    }\n",
       "\n",
       "    .dataframe thead th {\n",
       "        text-align: right;\n",
       "    }\n",
       "</style>\n",
       "<table border=\"1\" class=\"dataframe\">\n",
       "  <thead>\n",
       "    <tr style=\"text-align: right;\">\n",
       "      <th></th>\n",
       "      <th>coffee_title</th>\n",
       "      <th>roaster</th>\n",
       "      <th>coffee_origin_country</th>\n",
       "      <th>coffee_variety</th>\n",
       "      <th>roast_level</th>\n",
       "      <th>review_text</th>\n",
       "    </tr>\n",
       "  </thead>\n",
       "  <tbody>\n",
       "    <tr>\n",
       "      <th>0</th>\n",
       "      <td>Nero</td>\n",
       "      <td>Röstraum</td>\n",
       "      <td>Indonesien, Brasilien, Indien</td>\n",
       "      <td>70% Arabica, Typica, Yellow Bourbon,  30% Robusta</td>\n",
       "      <td>Dunkel</td>\n",
       "      <td>Wer es gern sehr kräftig, kurz und italienisch...</td>\n",
       "    </tr>\n",
       "    <tr>\n",
       "      <th>1</th>\n",
       "      <td>Aurelia</td>\n",
       "      <td>Kanzi Kaffee</td>\n",
       "      <td>Brasilien, Kolumbien, Indien</td>\n",
       "      <td>60% Arabica, 40% Robusta</td>\n",
       "      <td>Dunkel</td>\n",
       "      <td>Ein absoluter Klassiker! Wenn man beim Italien...</td>\n",
       "    </tr>\n",
       "    <tr>\n",
       "      <th>2</th>\n",
       "      <td>Frühstücksmischung</td>\n",
       "      <td>Alt Wien</td>\n",
       "      <td>\\nwashed</td>\n",
       "      <td>Arabica</td>\n",
       "      <td>Mittel</td>\n",
       "      <td>Perfekt für einen entspannten und unkomplizier...</td>\n",
       "    </tr>\n",
       "    <tr>\n",
       "      <th>3</th>\n",
       "      <td>Milano</td>\n",
       "      <td>Suchan</td>\n",
       "      <td>Kenia, Äthiopien, Indien, Nicaragua, Brasilien</td>\n",
       "      <td>95% Arabica, 5% Robusta</td>\n",
       "      <td>Dunkel</td>\n",
       "      <td>Die Stadt in der norditalienischen Lombardei g...</td>\n",
       "    </tr>\n",
       "    <tr>\n",
       "      <th>4</th>\n",
       "      <td>Estate Coffee, Grower`s Roast</td>\n",
       "      <td>Zalvera</td>\n",
       "      <td>El Salvador</td>\n",
       "      <td>Arabica, Bourbon, Cuscatleco</td>\n",
       "      <td>Mittel</td>\n",
       "      <td>An den Hängen des Vulkans Santa Ana, auf einer...</td>\n",
       "    </tr>\n",
       "  </tbody>\n",
       "</table>\n",
       "</div>"
      ],
      "text/plain": [
       "                     coffee_title       roaster  \\\n",
       "0                            Nero      Röstraum   \n",
       "1                         Aurelia  Kanzi Kaffee   \n",
       "2              Frühstücksmischung      Alt Wien   \n",
       "3                          Milano        Suchan   \n",
       "4   Estate Coffee, Grower`s Roast       Zalvera   \n",
       "\n",
       "                            coffee_origin_country  \\\n",
       "0                   Indonesien, Brasilien, Indien   \n",
       "1                    Brasilien, Kolumbien, Indien   \n",
       "2    \\nwashed                                       \n",
       "3  Kenia, Äthiopien, Indien, Nicaragua, Brasilien   \n",
       "4                                     El Salvador   \n",
       "\n",
       "                                      coffee_variety roast_level  \\\n",
       "0  70% Arabica, Typica, Yellow Bourbon,  30% Robusta      Dunkel   \n",
       "1                           60% Arabica, 40% Robusta      Dunkel   \n",
       "2                                            Arabica      Mittel   \n",
       "3                            95% Arabica, 5% Robusta      Dunkel   \n",
       "4                       Arabica, Bourbon, Cuscatleco      Mittel   \n",
       "\n",
       "                                         review_text  \n",
       "0  Wer es gern sehr kräftig, kurz und italienisch...  \n",
       "1  Ein absoluter Klassiker! Wenn man beim Italien...  \n",
       "2  Perfekt für einen entspannten und unkomplizier...  \n",
       "3  Die Stadt in der norditalienischen Lombardei g...  \n",
       "4  An den Hängen des Vulkans Santa Ana, auf einer...  "
      ]
     },
     "execution_count": 753,
     "metadata": {},
     "output_type": "execute_result"
    }
   ],
   "source": [
    "file.head()"
   ]
  },
  {
   "cell_type": "code",
   "execution_count": 518,
   "id": "105ee34c-1e1b-48d4-bfaf-4258dbb51d76",
   "metadata": {},
   "outputs": [],
   "source": [
    "file.drop(2, axis = 0, inplace=True) # To harmonize different dfs"
   ]
  },
  {
   "cell_type": "code",
   "execution_count": 521,
   "id": "31b0aad1-5217-4a2f-9bfc-b86d168e77ed",
   "metadata": {},
   "outputs": [
    {
     "data": {
      "text/plain": [
       "coffee_title             0\n",
       "roaster                  0\n",
       "coffee_origin_country    0\n",
       "coffee_variety           0\n",
       "roast_level              3\n",
       "review_text              0\n",
       "dtype: int64"
      ]
     },
     "execution_count": 521,
     "metadata": {},
     "output_type": "execute_result"
    }
   ],
   "source": [
    "file.isna().sum()"
   ]
  },
  {
   "cell_type": "code",
   "execution_count": 522,
   "id": "af1f754c-7ad8-483c-91a4-c3603ea887f4",
   "metadata": {},
   "outputs": [],
   "source": [
    "file.roast_level=file.roast_level.fillna(file.roast_level.mode()[0]) # Dealing with NaNs - Mode"
   ]
  },
  {
   "cell_type": "code",
   "execution_count": 524,
   "id": "461fba2b-d0fb-4931-b2c9-75072a9483b8",
   "metadata": {},
   "outputs": [],
   "source": [
    "#file.to_csv('../data_clean/kaffeothek.csv', index=True)"
   ]
  },
  {
   "cell_type": "markdown",
   "id": "8afb5e1b-f8a6-49b1-9d11-60ef6b1c1ba7",
   "metadata": {},
   "source": [
    "# Coffee Friends"
   ]
  },
  {
   "cell_type": "code",
   "execution_count": 712,
   "id": "695e655a-f329-4230-a925-90530c87f9f5",
   "metadata": {},
   "outputs": [],
   "source": [
    "file = pd.read_csv('../data_raw/coffeefriends.csv')\n",
    "\n",
    "file.dropna(inplace=True) # dop all NaNs\n",
    "\n",
    "# Pick most important columns:\n",
    "df = file[['coffee_title', 'coffee_origin', 'coffee_region', 'variety', 'production', 'roast', 'review_text']]\n",
    "\n",
    "df = df.reset_index(drop=True) \n",
    "\n",
    "\n",
    "# Removing unnecessary information from columns:\n",
    "for idx, row in df.iterrows():\n",
    "    df.variety[idx] = df.variety[idx].replace('VARIETÄT: ', '')\n",
    "    df.coffee_region[idx] = df.coffee_region[idx].replace('REGION: ', '')\n",
    "    df.production[idx] = df.production[idx].replace('AUFBEREITUNG: ', '')\n",
    "    df.roast[idx] = df.roast[idx].replace('RÖSTUNG:', '')\n",
    "    df.roast[idx] = df.roast[idx].replace('RÖSTUNGSPROFIL:' , '')\n",
    "    df.review_text[idx] = df.review_text[idx].replace('GESCHMACKSPALETTE:', '')\n",
    "    df.review_text[idx] = df.review_text[idx].replace('GESCHMACKSNOTEN:', '')\n",
    "\n",
    "\n",
    "# renaming columns\n",
    "df.rename(columns={'review_text': 'flavour'}) \n",
    "\n",
    "\n",
    "# Extracting Country from Coffee Title: \n",
    "ml = []\n",
    "for idx, val in enumerate(df['coffee_title']):\n",
    "    ml.append(df.coffee_title[idx].split('„')[1].split(',')[0].split(' ')[:-1])\n",
    "\n",
    "df['coffee_country'] = ml\n",
    "\n",
    "\n",
    "# Removing and Replacing Values from country coffee:\n",
    "\n",
    "for idx, i in enumerate(df.coffee_country):\n",
    "    for idx, elem in enumerate(i): \n",
    "        if elem in ['Blue', 'Santa', 'San', 'Jose', 'La']:\n",
    "            i[idx] = ''\n",
    "        elif elem == 'Kopi':\n",
    "            i[idx] = 'Honduras'       \n",
    "            \n",
    "\n",
    "# list to string: \n",
    "for idx, i in enumerate(df.coffee_country):\n",
    "    df.coffee_country[idx] = ' '.join(str(elem) for elem in i)\n",
    "\n",
    "#Dropping columns\n",
    "df.drop('coffee_origin', axis=1, inplace=True)\n",
    "\n",
    "# splitting and picking title\n",
    "for idx, val in enumerate(df.coffee_title):\n",
    "    df.coffee_title[idx] = val.split(',')[0]\n",
    "\n",
    "\n",
    "# setting roast levels to medium, light, dark\n",
    "for idx, val in enumerate(df.roast):\n",
    "    val = val.strip()\n",
    "    if val in ['Mittlere', 'Mittel', 'Mittelstarke']:\n",
    "        df.roast[idx] = 'medium'\n",
    "    elif val == 'Leicht':\n",
    "        df.roast[idx] = 'light'\n",
    "    else: \n",
    "        df.roast[idx] = 'dark'\n",
    "\n",
    "\n",
    "# setting production process to natural and washed\n",
    "for idx, val in enumerate(df.production):\n",
    "    val = val.strip()\n",
    "    if val == 'Trockene' or val == 'Natürlich':\n",
    "        df.production[idx] = 'natural'\n",
    "    elif val == 'Nasse' or val == 'Gewaschen':\n",
    "        df.production[idx] = 'washed'\n",
    "    else: \n",
    "        df.production[idx] = val.lower()"
   ]
  },
  {
   "cell_type": "code",
   "execution_count": 713,
   "id": "06b46f21-be3e-45b8-b851-a354fadf1cb9",
   "metadata": {},
   "outputs": [],
   "source": [
    "#df.to_csv('../data_clean/coffee_friend.csv')"
   ]
  }
 ],
 "metadata": {
  "kernelspec": {
   "display_name": "Python 3 (ipykernel)",
   "language": "python",
   "name": "python3"
  },
  "language_info": {
   "codemirror_mode": {
    "name": "ipython",
    "version": 3
   },
   "file_extension": ".py",
   "mimetype": "text/x-python",
   "name": "python",
   "nbconvert_exporter": "python",
   "pygments_lexer": "ipython3",
   "version": "3.9.12"
  },
  "widgets": {
   "application/vnd.jupyter.widget-state+json": {
    "state": {},
    "version_major": 2,
    "version_minor": 0
   }
  }
 },
 "nbformat": 4,
 "nbformat_minor": 5
}
