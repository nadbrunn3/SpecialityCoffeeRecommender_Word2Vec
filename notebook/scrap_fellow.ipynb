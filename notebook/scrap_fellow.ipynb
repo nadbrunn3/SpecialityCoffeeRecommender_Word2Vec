{
 "cells": [
  {
   "cell_type": "code",
   "execution_count": 1,
   "id": "cf6f07b9-7b46-4efa-9bdf-0b6848ca6871",
   "metadata": {},
   "outputs": [],
   "source": [
    "import requests\n",
    "from bs4 import BeautifulSoup\n",
    "import time\n",
    "import random\n",
    "import re\n",
    "import pandas as pd\n",
    "import numpy as np"
   ]
  },
  {
   "cell_type": "markdown",
   "id": "de2e430d-09b5-4aee-b17f-6e49faa9cc94",
   "metadata": {},
   "source": [
    "# Fellow Products"
   ]
  },
  {
   "cell_type": "code",
   "execution_count": 2,
   "id": "5cbee3ad-63f0-47a3-98ec-743da4474bd7",
   "metadata": {},
   "outputs": [],
   "source": [
    "url = 'https://fellowproducts.com/pages/curated-coffee-collection#'\n",
    "response = requests.get(url)\n",
    "soup = BeautifulSoup(response.content, 'html.parser')"
   ]
  },
  {
   "cell_type": "code",
   "execution_count": 62,
   "id": "afff429a-00d3-4c68-85ed-2291761798d8",
   "metadata": {},
   "outputs": [],
   "source": [
    "# Roaster\n",
    "roaster = []\n",
    "for i in range(22):\n",
    "    try:\n",
    "        r = soup.select('div.cmProducts__cardVendor')[i].text.replace('\\n', '').strip().split(' ')[0]\n",
    "        roaster.append(r)\n",
    "    except: \n",
    "        roaster.append(np.NaN)"
   ]
  },
  {
   "cell_type": "code",
   "execution_count": 64,
   "id": "2f65b819-5180-41bb-a9d2-811982e4bd4e",
   "metadata": {},
   "outputs": [
    {
     "data": {
      "text/plain": [
       "22"
      ]
     },
     "execution_count": 64,
     "metadata": {},
     "output_type": "execute_result"
    }
   ],
   "source": [
    "len(roaster)"
   ]
  },
  {
   "cell_type": "code",
   "execution_count": 65,
   "id": "f61e321b-550d-4132-882f-67c58efbdfbe",
   "metadata": {},
   "outputs": [],
   "source": [
    "# Title \n",
    "coffee_title = []\n",
    "for i in range(22):\n",
    "    try:\n",
    "        t = soup.select('h4.cmProducts__cardTitle')[i].text.replace('\\n', '')\n",
    "        coffee_title.append(t)\n",
    "    except: \n",
    "        coffee_title.append(np.NaN)"
   ]
  },
  {
   "cell_type": "code",
   "execution_count": 66,
   "id": "900bc374-6baa-4b51-94ee-fc6ecedad01d",
   "metadata": {},
   "outputs": [
    {
     "data": {
      "text/plain": [
       "22"
      ]
     },
     "execution_count": 66,
     "metadata": {},
     "output_type": "execute_result"
    }
   ],
   "source": [
    "len(coffee_title)"
   ]
  },
  {
   "cell_type": "code",
   "execution_count": 67,
   "id": "177485cf-84b5-44c9-a341-47f3879f573c",
   "metadata": {},
   "outputs": [],
   "source": [
    "# Href\n",
    "\n",
    "purchase = []\n",
    "for i in range(22):\n",
    "    try:\n",
    "        href = 'https://fellowproducts.com' + soup.select('h4.cmProducts__cardTitle')[i].a['href']\n",
    "        purchase.append(href)\n",
    "    except:\n",
    "        purchase.append(np.NaN)"
   ]
  },
  {
   "cell_type": "code",
   "execution_count": 45,
   "id": "71f5b676-04ca-4cb3-a521-5cfa3f7ab6ed",
   "metadata": {},
   "outputs": [],
   "source": [
    "# Roaster Location\n",
    "x = 0\n",
    "ml = []\n",
    "for i in range(22): \n",
    "    ml.append(soup.select('ul.cmProducts__cardNotes > li > p')[x].text.strip())\n",
    "    x += 4"
   ]
  },
  {
   "cell_type": "code",
   "execution_count": 46,
   "id": "d2b372e7-a8fe-4320-9f31-bf5a60b5eff1",
   "metadata": {},
   "outputs": [
    {
     "data": {
      "text/plain": [
       "['Portland, Oregon',\n",
       " 'Raleigh, North Carolina',\n",
       " 'San Diego, California',\n",
       " 'San Diego, California',\n",
       " 'Rogers, Arkansas',\n",
       " 'Wilmington, Delaware',\n",
       " 'Capitola, California',\n",
       " 'San Diego, California',\n",
       " 'Rogers, Arkansas',\n",
       " 'Wilmington, Delaware',\n",
       " 'San Diego, California',\n",
       " 'Wilmington, Delaware',\n",
       " 'San Diego, California',\n",
       " 'Rogers, Arkansas',\n",
       " 'Wilmington, Delaware',\n",
       " 'Wilmington, Delaware',\n",
       " 'Portland, Oregon',\n",
       " 'Rogers, Arkansas',\n",
       " 'Wilmington, Delaware',\n",
       " 'Los Angeles, California',\n",
       " 'Oakland, California',\n",
       " 'Wilmington, Delaware']"
      ]
     },
     "execution_count": 46,
     "metadata": {},
     "output_type": "execute_result"
    }
   ],
   "source": [
    "roaster_location = ml\n",
    "roaster_location"
   ]
  },
  {
   "cell_type": "code",
   "execution_count": 47,
   "id": "6f06a0f6-1d10-4b61-a2ca-5fb4d8ec344e",
   "metadata": {},
   "outputs": [],
   "source": [
    "# Coffee Country + Region\n",
    "x = 1\n",
    "ml = []\n",
    "for i in range(22): \n",
    "    ml.append(soup.select('ul.cmProducts__cardNotes > li > p')[x].text.strip())\n",
    "    x += 4"
   ]
  },
  {
   "cell_type": "code",
   "execution_count": 53,
   "id": "bab9423e-7fb9-4da9-87ef-adc92a7c2615",
   "metadata": {},
   "outputs": [],
   "source": [
    "coffee_origin = []\n",
    "coffee_region = []\n",
    "for i in ml:\n",
    "    coffee_origin.append(i.split(',')[-1])\n",
    "    coffee_region.append(i.split(',')[:-1])\n",
    "    "
   ]
  },
  {
   "cell_type": "code",
   "execution_count": 55,
   "id": "3034443c-322d-407f-8989-628b5f90081f",
   "metadata": {},
   "outputs": [
    {
     "data": {
      "text/plain": [
       "[['Sidama'],\n",
       " ['Gedeb', ' Yirgacheffe'],\n",
       " ['Sidama'],\n",
       " ['Nariño'],\n",
       " ['Huila'],\n",
       " ['Sierra Nevada de Santa Marta'],\n",
       " ['Guji'],\n",
       " ['Ngozi Province'],\n",
       " ['Sabanilla de Alajuela'],\n",
       " ['Nyamasheke', ' Western Province'],\n",
       " ['Ibarra', ' Imbabura'],\n",
       " ['Gedeb'],\n",
       " ['Caicedonia', ' Valle del Cauca'],\n",
       " ['Various'],\n",
       " ['Boquete'],\n",
       " ['Huila'],\n",
       " ['Americas'],\n",
       " ['Ethiopia'],\n",
       " ['Laguna de Ayarza'],\n",
       " ['San Ignacio'],\n",
       " ['Santa Elena', ' La Paz'],\n",
       " ['Gedeb District', ' Gedeo Zone']]"
      ]
     },
     "execution_count": 55,
     "metadata": {},
     "output_type": "execute_result"
    }
   ],
   "source": []
  },
  {
   "cell_type": "code",
   "execution_count": 57,
   "id": "3004da97-1147-4b4e-b34e-d4c1286002df",
   "metadata": {},
   "outputs": [],
   "source": [
    "#Flavor\n",
    "x = 2\n",
    "ml = []\n",
    "for i in range(22): \n",
    "    ml.append(soup.select('ul.cmProducts__cardNotes > li > p')[x].text.strip())\n",
    "    x += 4\n"
   ]
  },
  {
   "cell_type": "code",
   "execution_count": 68,
   "id": "6cd34312-d27c-4597-97b1-fcc8d5615f52",
   "metadata": {},
   "outputs": [],
   "source": [
    "flavor = ml"
   ]
  },
  {
   "cell_type": "code",
   "execution_count": 69,
   "id": "27c0154d-b440-4fde-a447-9a19ab5fba1b",
   "metadata": {},
   "outputs": [],
   "source": [
    "my_dict = {'coffee_title': coffee_title,\n",
    "           'roaster': roaster,\n",
    "           'roaster_location': roaster_location,\n",
    "           'coffee_origin': coffee_origin,\n",
    "           'coffee_region': coffee_region,           \n",
    "           'flavor': flavor,\n",
    "           'purchase': purchase}"
   ]
  },
  {
   "cell_type": "code",
   "execution_count": 70,
   "id": "055187ed-b199-49a1-b6b3-d05b0170c918",
   "metadata": {},
   "outputs": [],
   "source": [
    "fellow = pd.DataFrame.from_dict(my_dict)"
   ]
  },
  {
   "cell_type": "code",
   "execution_count": 72,
   "id": "cad26f4f-9128-468d-94f1-15a2566e245c",
   "metadata": {},
   "outputs": [],
   "source": [
    "fellow.head()\n",
    "fellow.to_csv('fellow_abo.csv')"
   ]
  },
  {
   "cell_type": "code",
   "execution_count": null,
   "id": "31b96671-648b-4a14-8c71-03ea29b8dc52",
   "metadata": {},
   "outputs": [],
   "source": []
  }
 ],
 "metadata": {
  "kernelspec": {
   "display_name": "Python 3 (ipykernel)",
   "language": "python",
   "name": "python3"
  },
  "language_info": {
   "codemirror_mode": {
    "name": "ipython",
    "version": 3
   },
   "file_extension": ".py",
   "mimetype": "text/x-python",
   "name": "python",
   "nbconvert_exporter": "python",
   "pygments_lexer": "ipython3",
   "version": "3.9.12"
  },
  "widgets": {
   "application/vnd.jupyter.widget-state+json": {
    "state": {},
    "version_major": 2,
    "version_minor": 0
   }
  }
 },
 "nbformat": 4,
 "nbformat_minor": 5
}
