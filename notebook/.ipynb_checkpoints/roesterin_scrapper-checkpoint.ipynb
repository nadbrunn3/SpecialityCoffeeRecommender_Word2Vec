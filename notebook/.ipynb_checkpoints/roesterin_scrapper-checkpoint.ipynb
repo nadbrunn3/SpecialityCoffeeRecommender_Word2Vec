{
 "cells": [
  {
   "cell_type": "markdown",
   "id": "b1eb1444-a535-444e-bb4d-222350752b84",
   "metadata": {},
   "source": [
    "# Die Rösterin"
   ]
  },
  {
   "cell_type": "code",
   "execution_count": 115,
   "id": "9f748176-cc08-43eb-bb01-68e5c709f703",
   "metadata": {},
   "outputs": [],
   "source": [
    "from bs4 import BeautifulSoup\n",
    "import requests\n",
    "import random, time"
   ]
  },
  {
   "cell_type": "code",
   "execution_count": 178,
   "id": "06cbce6f-e666-4ce1-94d5-8c3bc62894ef",
   "metadata": {},
   "outputs": [],
   "source": [
    "user_agent = \"Mozilla/5.0 (Macintosh; Intel Mac OS X 10_15_7) AppleWebKit/537.36 (KHTML, like Gecko) Chrome/104.0.0.0 Safari/537.36\"\n"
   ]
  },
  {
   "cell_type": "markdown",
   "id": "592ebbf8-cf96-4daa-802a-1d1312a74f2c",
   "metadata": {},
   "source": [
    "## Espresso"
   ]
  },
  {
   "cell_type": "code",
   "execution_count": 205,
   "id": "ebafd12a-ce08-40b4-839a-63c7caf0dc4a",
   "metadata": {},
   "outputs": [],
   "source": [
    "url = 'https://dieroesterin.at/produkt-kategorie/espresso/'\n",
    "response = requests.get(url)"
   ]
  },
  {
   "cell_type": "code",
   "execution_count": 206,
   "id": "31390af9-2451-47a2-9ad7-efc3ccdef32f",
   "metadata": {},
   "outputs": [],
   "source": [
    "soup = BeautifulSoup(response.content,\"html.parser\")"
   ]
  },
  {
   "cell_type": "code",
   "execution_count": 207,
   "id": "dbf515db-7741-4736-91a3-3f204ce85312",
   "metadata": {},
   "outputs": [],
   "source": [
    "espressi = []\n",
    "for i in range(12):\n",
    "   espressi.append(soup.select('ul.columns-3 > li > a')[i]['href'])"
   ]
  },
  {
   "cell_type": "code",
   "execution_count": 209,
   "id": "afb2b36a-7bf9-4e0e-883e-4f3017fd69d8",
   "metadata": {},
   "outputs": [
    {
     "name": "stdout",
     "output_type": "stream",
     "text": [
      "Coffee info on idx 0 collected\n",
      "Coffee info on idx 1 collected\n",
      "Coffee info on idx 2 collected\n"
     ]
    },
    {
     "ename": "AttributeError",
     "evalue": "'NoneType' object has no attribute 'text'",
     "output_type": "error",
     "traceback": [
      "\u001b[0;31m---------------------------------------------------------------------------\u001b[0m",
      "\u001b[0;31mAttributeError\u001b[0m                            Traceback (most recent call last)",
      "Input \u001b[0;32mIn [209]\u001b[0m, in \u001b[0;36m<cell line: 13>\u001b[0;34m()\u001b[0m\n\u001b[1;32m     19\u001b[0m name \u001b[38;5;241m=\u001b[39m soup\u001b[38;5;241m.\u001b[39mselect_one(\u001b[38;5;124m'\u001b[39m\u001b[38;5;124mdiv.summary.entry-summary > h1\u001b[39m\u001b[38;5;124m'\u001b[39m)\u001b[38;5;241m.\u001b[39mget_text()\n\u001b[1;32m     20\u001b[0m coffee_name\u001b[38;5;241m.\u001b[39mappend(name)\n\u001b[0;32m---> 22\u001b[0m ml \u001b[38;5;241m=\u001b[39m \u001b[43msoup\u001b[49m\u001b[38;5;241;43m.\u001b[39;49m\u001b[43mselect_one\u001b[49m\u001b[43m(\u001b[49m\u001b[38;5;124;43m'\u001b[39;49m\u001b[38;5;124;43mdiv.woocommerce-product-details__short-description > p:nth-child(3)\u001b[39;49m\u001b[38;5;124;43m'\u001b[39;49m\u001b[43m)\u001b[49m\u001b[38;5;241;43m.\u001b[39;49m\u001b[43mtext\u001b[49m\u001b[38;5;241m.\u001b[39msplit(\u001b[38;5;124m'\u001b[39m\u001b[38;5;130;01m\\n\u001b[39;00m\u001b[38;5;124m'\u001b[39m)\n\u001b[1;32m     23\u001b[0m ml \u001b[38;5;241m=\u001b[39m [i\u001b[38;5;241m.\u001b[39mreplace(\u001b[38;5;124m'\u001b[39m\u001b[38;5;130;01m\\xa0\u001b[39;00m\u001b[38;5;124m'\u001b[39m, \u001b[38;5;124m'\u001b[39m\u001b[38;5;124m'\u001b[39m) \u001b[38;5;28;01mfor\u001b[39;00m i \u001b[38;5;129;01min\u001b[39;00m ml]\n\u001b[1;32m     24\u001b[0m \u001b[38;5;28;01mfor\u001b[39;00m i \u001b[38;5;129;01min\u001b[39;00m ml:\n",
      "\u001b[0;31mAttributeError\u001b[0m: 'NoneType' object has no attribute 'text'"
     ]
    }
   ],
   "source": [
    "# Information to extract: \n",
    "\n",
    "coffee_name = []\n",
    "cupping_score = []\n",
    "cupping_notes = []\n",
    "coffee_category = []\n",
    "bean_country = []\n",
    "bean_region = []\n",
    "bean_variety = []\n",
    "bean_production = []\n",
    "\n",
    "\n",
    "for idx, link in enumerate(espressi):\n",
    "    \n",
    "    url = link\n",
    "    response = requests.get(url)\n",
    "    soup = BeautifulSoup(response.content,\"html.parser\")\n",
    " \n",
    "    name = soup.select_one('div.summary.entry-summary > h1').get_text()\n",
    "    coffee_name.append(name)\n",
    "\n",
    "    ml = soup.select_one('div.woocommerce-product-details__short-description > p:nth-child(3)').text.split('\\n')\n",
    "    ml = [i.replace('\\xa0', '') for i in ml]\n",
    "    for i in ml:\n",
    "        \n",
    "        try:             \n",
    "            if 'Country' in i:\n",
    "                bean_country.append(i.split(':')[1])\n",
    "        except: \n",
    "            bean_country.append('NaN')\n",
    "            \n",
    "        try:     \n",
    "            if 'Region' in i: \n",
    "                bean_region.append(i.split(':')[1])\n",
    "        except: \n",
    "            bean_region.append('NaN')\n",
    "            \n",
    "        try:    \n",
    "            if 'Variety' in i: \n",
    "                bean_variety.append(i.split(':')[1])\n",
    "        except: \n",
    "            bean_variety.append('NaN')\n",
    "        \n",
    "        try: \n",
    "            if 'Production' in i: \n",
    "                bean_production.append(i.split(':')[1])\n",
    "        except: \n",
    "            bean_production.append('NaN')\n",
    "            \n",
    "        try:             \n",
    "            if 'Cupping Note' in i: \n",
    "                cupping_notes.append(i.split(':')[1])\n",
    "        except: \n",
    "            cupping_notes.append('NaN')\n",
    "                \n",
    "        try:         \n",
    "            if 'Cupping Score' in i:\n",
    "                cupping_score.append(i.split(':')[1])\n",
    "        except: \n",
    "            cupping_score.append('NaN')               \n",
    "                \n",
    "                \n",
    "        coffee_category.append('espresso')   \n",
    "\n",
    "    coffee_category.append('espresso')    \n",
    "    print('Coffee info on idx {} collected'.format(idx))\n",
    "\n",
    "        # respectful nap:\n",
    "    wait_time = random.randint(1,2)\n",
    "    time.sleep(wait_time)\n",
    "\n"
   ]
  },
  {
   "cell_type": "code",
   "execution_count": 198,
   "id": "b111fa34-933a-499f-8fc2-5c8f4eef30cb",
   "metadata": {},
   "outputs": [
    {
     "data": {
      "text/plain": [
       "['Costa Rica – Don Luis Eduardo termico natural CoE 92 – Espresso',\n",
       " 'Costa Rica – Don Miguel Espresso',\n",
       " 'Honduras Maria Melva Rodriguez – BIO Espresso',\n",
       " 'Indien Canephora Robusta',\n",
       " 'SPEEDRACER Espresso',\n",
       " 'PERU, David Guevara Armijos Espresso',\n",
       " 'MOO',\n",
       " 'der Pate – der Kräftige',\n",
       " 'Seattle Blend',\n",
       " 'Don Camillo & Peppone',\n",
       " 'El Salvador – Bourbon – ANAEROB fermentiert',\n",
       " 'INDONESIEN Pegasing Lot3329 – Espresso']"
      ]
     },
     "execution_count": 198,
     "metadata": {},
     "output_type": "execute_result"
    }
   ],
   "source": [
    "coffee_name"
   ]
  },
  {
   "cell_type": "code",
   "execution_count": 199,
   "id": "4a425f11-e102-4fc0-87d1-555aa09d4368",
   "metadata": {},
   "outputs": [
    {
     "data": {
      "text/plain": [
       "['Costa Rica', 'Costa Rica', ' Honduras', 'Peru']"
      ]
     },
     "execution_count": 199,
     "metadata": {},
     "output_type": "execute_result"
    }
   ],
   "source": [
    "bean_country"
   ]
  },
  {
   "cell_type": "markdown",
   "id": "593d98d0-b969-44f6-a7c0-5e0aa8d8d897",
   "metadata": {},
   "source": [
    "## Filter"
   ]
  },
  {
   "cell_type": "code",
   "execution_count": 183,
   "id": "62385865-fa88-4237-8fdf-a3c64dfea8f2",
   "metadata": {},
   "outputs": [],
   "source": [
    "url = 'https://dieroesterin.at/produkt-kategorie/filterkaffee/'\n",
    "response = requests.get(url)\n",
    "soup = BeautifulSoup(response.content,\"html.parser\")\n",
    "\n",
    "# Get Link\n",
    "filter = []\n",
    "for i in range(6):\n",
    "   filter.append(soup.select('ul.columns-3 > li > a')[i]['href'])\n",
    "\n"
   ]
  },
  {
   "cell_type": "code",
   "execution_count": 184,
   "id": "7600c8f6-8031-495c-9841-e6754bcae17c",
   "metadata": {},
   "outputs": [
    {
     "name": "stdout",
     "output_type": "stream",
     "text": [
      "name collected\n",
      "There was an error\n",
      "name collected\n",
      "Coffee info on idx 1 collected\n",
      "name collected\n",
      "Coffee info on idx 2 collected\n",
      "name collected\n",
      "Coffee info on idx 3 collected\n",
      "name collected\n",
      "Coffee info on idx 4 collected\n",
      "name collected\n",
      "Coffee info on idx 5 collected\n"
     ]
    }
   ],
   "source": [
    "for idx, link in enumerate(filter):\n",
    "    \n",
    "    url = link\n",
    "    response = requests.get(url)\n",
    "    soup = BeautifulSoup(response.content,\"html.parser\")\n",
    "\n",
    "    try: \n",
    "        name = soup.select_one('div.summary.entry-summary > h1').get_text()\n",
    "        coffee_name.append(name)\n",
    "        print('name collected')\n",
    "\n",
    "        ml = soup.select_one('div.summary.entry-summary > div.woocommerce-product-details__short-description > p:nth-child(3)').text.split('\\n')\n",
    "        ml = [i.replace('\\xa0', '') for i in ml]\n",
    "        for i in ml: \n",
    "            if 'Country' in i:\n",
    "                bean_country.append(i.split(':')[1])\n",
    "            elif 'Region' in i: \n",
    "                bean_region.append(i.split(':')[1])\n",
    "            elif 'Variety' in i: \n",
    "                bean_variety.append(i.split(':')[1])\n",
    "            elif 'Production' in i: \n",
    "                bean_production.append(i.split(':')[1])\n",
    "            elif 'Cupping Note' in i: \n",
    "                cupping_note.append(i.split(':')[1])\n",
    "            elif 'Cupping Score' in i:\n",
    "                cupping_score.append(i.split(':')[1])\n",
    "            coffee_category.append('espresso')    \n",
    "        \n",
    "        print('Coffee info on idx {} collected'.format(idx))\n",
    "\n",
    "    except: \n",
    "        print('There was an error')\n",
    "\n",
    "            # respectful nap:\n",
    "    wait_time = random.randint(1,2)\n",
    "    time.sleep(wait_time)"
   ]
  },
  {
   "cell_type": "code",
   "execution_count": 185,
   "id": "d3bae2a4-55ae-4c2f-85ba-b4e7c04eb551",
   "metadata": {},
   "outputs": [
    {
     "name": "stdout",
     "output_type": "stream",
     "text": [
      "['Costa Rica – Don Luis Eduardo termico natural CoE 92 – Espresso', 'Costa Rica – Don Luis Eduardo termico natural CoE 92 – Espresso', 'Costa Rica – Don Luis Eduardo termico natural CoE 92 – Espresso', 'Costa Rica – Don Luis Eduardo termico natural CoE 92 – Espresso', 'Costa Rica – Don Luis Eduardo termico natural CoE 92 – Espresso', 'Costa Rica – Don Luis Eduardo termico natural CoE 92 – Espresso', 'Costa Rica – Don Luis Eduardo termico natural CoE 92 – Espresso', 'Costa Rica – Don Luis Eduardo termico natural CoE 92 – Espresso', 'Costa Rica – Don Luis Eduardo termico natural CoE 92 – Espresso', 'Costa Rica – Don Luis Eduardo termico natural CoE 92 – Espresso', 'Costa Rica – Don Luis Eduardo termico natural CoE 92 – Espresso', 'Costa Rica – Don Luis Eduardo termico natural CoE 92 – Espresso', 'Costa Rica – Don Luis Eduardo termico natural CoE 92 – Espresso', 'Costa Rica – Don Luis Eduardo termico natural CoE 92 – Espresso', 'Costa Rica – Don Luis Eduardo termico natural CoE 92 – Espresso', 'Costa Rica – Don Luis Eduardo termico natural CoE 92 – Espresso', 'Costa Rica – Don Luis Eduardo termico natural CoE 92 – Espresso', 'Costa Rica – Don Luis Eduardo termico natural CoE 92 – Espresso']\n"
     ]
    },
    {
     "data": {
      "text/plain": [
       "['Production: termico natural',\n",
       " 'Production: washed processed',\n",
       " 'Production: macerated natural processed, organic',\n",
       " 'Production: natural dried',\n",
       " 'Verarbeitung: anaerob fermented',\n",
       " ' termico natural']"
      ]
     },
     "execution_count": 185,
     "metadata": {},
     "output_type": "execute_result"
    }
   ],
   "source": [
    "print(coffee_name)\n",
    "cupping_score \n",
    "cupping_notes\n",
    "coffee_category\n",
    "bean_country\n",
    "bean_region\n",
    "bean_variety\n",
    "bean_production"
   ]
  },
  {
   "cell_type": "code",
   "execution_count": null,
   "id": "3a360d31-c042-44d6-ada1-3b3f593eca7c",
   "metadata": {},
   "outputs": [],
   "source": []
  }
 ],
 "metadata": {
  "kernelspec": {
   "display_name": "Python 3 (ipykernel)",
   "language": "python",
   "name": "python3"
  },
  "language_info": {
   "codemirror_mode": {
    "name": "ipython",
    "version": 3
   },
   "file_extension": ".py",
   "mimetype": "text/x-python",
   "name": "python",
   "nbconvert_exporter": "python",
   "pygments_lexer": "ipython3",
   "version": "3.9.12"
  },
  "widgets": {
   "application/vnd.jupyter.widget-state+json": {
    "state": {},
    "version_major": 2,
    "version_minor": 0
   }
  }
 },
 "nbformat": 4,
 "nbformat_minor": 5
}
