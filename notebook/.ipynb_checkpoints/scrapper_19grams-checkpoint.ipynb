{
 "cells": [
  {
   "cell_type": "markdown",
   "id": "e1fd61bd-2ce3-455a-8762-435632e0ef1d",
   "metadata": {},
   "source": [
    "# 19grams\n",
    "\n",
    "## Filter"
   ]
  },
  {
   "cell_type": "code",
   "execution_count": 2,
   "id": "41b1ddf4-9f65-4935-a285-ccdef3eeefde",
   "metadata": {},
   "outputs": [],
   "source": [
    "import requests\n",
    "from bs4 import BeautifulSoup\n",
    "import time\n",
    "import random\n",
    "import re\n",
    "import pandas as pd"
   ]
  },
  {
   "cell_type": "code",
   "execution_count": 28,
   "id": "f016cbcb-7446-408f-8199-93739c37b332",
   "metadata": {},
   "outputs": [],
   "source": [
    "url = 'https://19grams.coffee/collections/filterkaffee'\n",
    "response = requests.get(url)\n",
    "soup = BeautifulSoup(response.content, 'html.parser')\n",
    "\n",
    "filter = []\n",
    "for i in range(14):\n",
    "    filter.append(soup.select('div.card-wrapper > a')[i]['href'])\n",
    "\n",
    "for idx, i in enumerate(filter): \n",
    "    if 'probier' in i: \n",
    "        del filter[idx]\n",
    "\n",
    "filter_coffee = filter\n",
    "\n",
    "filter_coffee"
   ]
  },
  {
   "cell_type": "code",
   "execution_count": 167,
   "id": "95d92cf7-b54d-44e6-86e4-f00c44d81f15",
   "metadata": {},
   "outputs": [],
   "source": [
    "# rating = []\n",
    "# roaster_name = []\n",
    "# coffee_title = []\n",
    "# roaster_location = []\n",
    "# coffee_origin = []\n",
    "# roast_level = []\n",
    "# price_estimate = []\n",
    "# review_text1 = []\n",
    "# review_text2 = []\n",
    "# variety = []\n",
    "# production = []\n",
    "\n",
    "#ProductInfo-template--16111667413260__main > div.product__title > h1"
   ]
  },
  {
   "cell_type": "code",
   "execution_count": 168,
   "id": "5cb3dfff-1a7c-44ae-a4b7-a98074499168",
   "metadata": {},
   "outputs": [
    {
     "name": "stdout",
     "output_type": "stream",
     "text": [
      "0\n",
      "1\n",
      "2\n",
      "3\n",
      "4\n",
      "5\n",
      "6\n",
      "7\n",
      "8\n",
      "9\n",
      "10\n",
      "11\n"
     ]
    }
   ],
   "source": [
    "# #Coffe Title\n",
    "\n",
    "# for idx, link in enumerate(filter_coffee):\n",
    "#     url = 'https://19grams.coffee'+ link\n",
    "#     response = requests.get(url)\n",
    "#     soup = BeautifulSoup(response.content, 'html.parser')\n",
    "    \n",
    "#     try: \n",
    "#         t = soup.select_one('div.product__title > h1').text\n",
    "#         coffee_title.append(t)\n",
    "#     except: \n",
    "#         coffee_title.append('NaN')\n",
    "    \n",
    "#     try:\n",
    "#         p = soup.select_one('#price-template--16135512850700__main > div > dl > small.unit-price ').text\n",
    "#         price_estimate.append(p)\n",
    "#     except:\n",
    "#         price_estimate.append('NaN')\n",
    "        \n",
    "\n",
    "#     # Review Text\n",
    "#     try:     \n",
    "#         t = soup.select_one('div.custom-field.custom-field__flavour-nr-one.custom-field__type--text > div').text\n",
    "#         review_text1.append(t)\n",
    "#     except:\n",
    "#         review_text1.append('NaN')       \n",
    "        \n",
    "#     try:\n",
    "#         x = soup.select_one('div:nth-child(2) > div > div > p:nth-child(4)').get_text()\n",
    "#         res_list = []\n",
    "#         res_list=re.findall('[A-Z][^A-Z]*', x)\n",
    "#         rating.append(res_list[0])\n",
    "#         review_text2.append(res_list[1:])\n",
    "#     except:         \n",
    "#         review_text2.append('NaN')\n",
    "#         rating.append('NaN')\n",
    "\n",
    "#     try:\n",
    "#         x = soup.select_one('div:nth-child(2) > div > div > p:nth-child(5)').text\n",
    "#         res_list = []\n",
    "#         res_list=re.findall('[A-Z][^A-Z]*', x)\n",
    "#         variety.append(res_list[1])\n",
    "#     except:\n",
    "#         variety.append('NaN')\n",
    "    \n",
    "#     print(idx)\n",
    "    \n",
    "\n",
    "    \n",
    "\n"
   ]
  },
  {
   "cell_type": "code",
   "execution_count": 169,
   "id": "a205d03c-e9ef-43ec-82f2-c3f559d03836",
   "metadata": {},
   "outputs": [
    {
     "name": "stdout",
     "output_type": "stream",
     "text": [
      "12\n",
      "12\n",
      "12\n",
      "0\n",
      "12\n",
      "12\n"
     ]
    }
   ],
   "source": [
    "print(len(coffee_title))\n",
    "print(len(rating))\n",
    "print(len(variety))\n",
    "print(len(review_text1))\n",
    "print(len(review_text2))\n",
    "print(len(review_text2))"
   ]
  },
  {
   "cell_type": "code",
   "execution_count": 175,
   "id": "a60888eb-20c0-40ac-9e32-53b3d554235c",
   "metadata": {},
   "outputs": [],
   "source": [
    "# my_dict = {'coffee_name': coffee_title,\n",
    "#           'sca_rating': rating,\n",
    "#            'price/kg': price_estimate,\n",
    "#            'coffee_variety': variety,\n",
    "#            'review': review_text1,\n",
    "#            'review2': review_text2\n",
    "#           }"
   ]
  },
  {
   "cell_type": "code",
   "execution_count": 176,
   "id": "fdaa3b33-5754-40fa-ad95-b5e47f650781",
   "metadata": {},
   "outputs": [],
   "source": [
    "# coffee19grams = pd.DataFrame.from_dict(my_dict)\n",
    "\n",
    "# coffee19grams['roaster'] = '19grams_coffee'\n",
    "# coffee19grams['purchase'] = 'https://19grams.coffee/'\n",
    "# coffee19grams['type'] = 'filter'\n",
    "\n",
    "# coffee19grams.to_csv('19grams_filter.csv')\n",
    "\n",
    "# coffee19grams"
   ]
  },
  {
   "cell_type": "markdown",
   "id": "93421301-9ee5-4353-a49d-1e22b16d74ec",
   "metadata": {
    "tags": []
   },
   "source": [
    "## Espresso "
   ]
  },
  {
   "cell_type": "code",
   "execution_count": 3,
   "id": "1323d116-e33f-4ae3-b109-3ede38f31507",
   "metadata": {},
   "outputs": [],
   "source": [
    "url = 'https://19grams.coffee/collections/espresso'\n",
    "response = requests.get(url)\n",
    "soup = BeautifulSoup(response.content, 'html.parser')"
   ]
  },
  {
   "cell_type": "code",
   "execution_count": 4,
   "id": "7cd34548-0a0b-4e94-8d3c-2c0a0933340f",
   "metadata": {},
   "outputs": [
    {
     "data": {
      "text/plain": [
       "<Response [200]>"
      ]
     },
     "execution_count": 4,
     "metadata": {},
     "output_type": "execute_result"
    }
   ],
   "source": [
    "response"
   ]
  },
  {
   "cell_type": "code",
   "execution_count": 29,
   "id": "9f257248-cb9b-4cf4-a4d7-28aaec90228d",
   "metadata": {},
   "outputs": [
    {
     "data": {
      "text/plain": [
       "'/collections/espresso/products/kaffee-adventskalender-espresso'"
      ]
     },
     "execution_count": 29,
     "metadata": {},
     "output_type": "execute_result"
    }
   ],
   "source": [
    "soup.select('div.card-wrapper > a')[0]['href']"
   ]
  },
  {
   "cell_type": "code",
   "execution_count": 31,
   "id": "45398aad-4158-4ea0-81d1-77ef726f0b22",
   "metadata": {},
   "outputs": [
    {
     "data": {
      "text/plain": [
       "['/collections/espresso/products/sonora-geisha-natural-costa-rica-filter',\n",
       " '/collections/espresso/products/hacienda-sonora-l9-costa-rica-espresso',\n",
       " '/collections/espresso/products/simbi-natural-espresso',\n",
       " '/collections/espresso/products/bella-vista-kolumbien-espresso',\n",
       " '/collections/espresso/products/la-toma-kolumbien-espresso-1',\n",
       " '/collections/espresso/products/la-granada-96h-kolumbien-espresso',\n",
       " '/collections/espresso/products/entkoffeinierter-kolumbien-espresso',\n",
       " '/collections/espresso/products/orang-utan-sumatra',\n",
       " '/collections/espresso/products/wild-at-heart',\n",
       " '/collections/espresso/products/endless-summer-classic-espresso-kolumbien',\n",
       " '/collections/espresso/products/italo-disco-classic-espresso',\n",
       " '/collections/espresso/products/little-flower-classic-espresso']"
      ]
     },
     "execution_count": 31,
     "metadata": {},
     "output_type": "execute_result"
    }
   ],
   "source": [
    "\n",
    "\n",
    "espresso = []\n",
    "for i in range(4,16):\n",
    "    espresso.append(soup.select('div.card-wrapper > a')[i]['href'])\n",
    "\n",
    "for idx, i in enumerate(espresso): \n",
    "    if 'probier' in i: \n",
    "        del filter[idx]\n",
    "\n",
    "\n",
    "\n",
    "espresso "
   ]
  },
  {
   "cell_type": "code",
   "execution_count": 54,
   "id": "ce8d4b62-96f5-4db0-8cf8-85b1fb3a0285",
   "metadata": {},
   "outputs": [
    {
     "data": {
      "text/plain": [
       "'Score: 83'"
      ]
     },
     "execution_count": 54,
     "metadata": {},
     "output_type": "execute_result"
    }
   ],
   "source": [
    "x = soup.select_one('div:nth-child(2) > p:nth-child(3)').text\n",
    "re.findall('[A-Z][^A-Z]*', x)[0]"
   ]
  },
  {
   "cell_type": "code",
   "execution_count": 56,
   "id": "772a5fbd-b17f-4ac6-8429-91db082635f3",
   "metadata": {},
   "outputs": [],
   "source": [
    "rating = []\n",
    "roaster_name = []\n",
    "coffee_title = []\n",
    "roaster_location = []\n",
    "coffee_origin = []\n",
    "roast_level = []\n",
    "price_estimate = []\n",
    "review_text1 = []\n",
    "review_text2 = []\n",
    "variety = []\n",
    "production = []"
   ]
  },
  {
   "cell_type": "code",
   "execution_count": 57,
   "id": "3ed7e7b5-5689-452a-bb1d-56d16aa19685",
   "metadata": {},
   "outputs": [
    {
     "name": "stdout",
     "output_type": "stream",
     "text": [
      "0\n",
      "1\n",
      "2\n",
      "3\n",
      "4\n",
      "5\n",
      "6\n",
      "7\n",
      "8\n",
      "9\n",
      "10\n",
      "11\n"
     ]
    }
   ],
   "source": [
    "for idx, link in enumerate(espresso):\n",
    "    url = 'https://19grams.coffee'+ link\n",
    "    response = requests.get(url)\n",
    "    soup = BeautifulSoup(response.content, 'html.parser')\n",
    "    \n",
    "    try: \n",
    "        t = soup.select_one('div.product__title > h1').text\n",
    "        coffee_title.append(t)\n",
    "    except: \n",
    "        coffee_title.append('NaN')\n",
    "    \n",
    "    try:\n",
    "        p = soup.select_one('#price-template--16135512850700__main > div > dl > small.unit-price').text \n",
    "        price_estimate.append(p)\n",
    "    except:\n",
    "        price_estimate.append('NaN')\n",
    "        \n",
    "\n",
    "    # Review Text\n",
    "    try:     \n",
    "        t = soup.select_one('div.custom-field.custom-field__flavour-nr-one.custom-field__type--text > div').text\n",
    "        review_text1.append(t)\n",
    "    except:\n",
    "        review_text1.append('NaN')       \n",
    "        \n",
    "    try:\n",
    "        x = soup.select_one('div:nth-child(2) > p:nth-child(3)').text\n",
    "        rating.append(re.findall('[A-Z][^A-Z]*', x)[0])\n",
    "        review_text2.append(res_list[1:])\n",
    "    except:         \n",
    "        review_text2.append('NaN')\n",
    "        rating.append('NaN')\n",
    "\n",
    "    try:\n",
    "        x = soup.select_one('div:nth-child(2) > p:nth-child(4)').text        \n",
    "        variety.append(re.findall('[A-Z][^A-Z]*', x)[1])        \n",
    "    except:\n",
    "        variety.append('NaN')\n",
    "    \n",
    "    print(idx)\n",
    "    "
   ]
  },
  {
   "cell_type": "code",
   "execution_count": 34,
   "id": "f6f42bad-428a-4716-87f2-64e3adfd3b97",
   "metadata": {},
   "outputs": [
    {
     "name": "stdout",
     "output_type": "stream",
     "text": [
      "12\n",
      "12\n",
      "12\n",
      "12\n",
      "12\n",
      "12\n"
     ]
    }
   ],
   "source": [
    "print(len(coffee_title))\n",
    "print(len(rating))\n",
    "print(len(variety))\n",
    "print(len(review_text1))\n",
    "print(len(review_text2))\n",
    "print(len(review_text2))"
   ]
  },
  {
   "cell_type": "code",
   "execution_count": 58,
   "id": "c31d7beb-0fad-4671-b369-a5c86c70fa44",
   "metadata": {},
   "outputs": [
    {
     "data": {
      "text/plain": [
       "['Du kannst in jedem ',\n",
       " 'Score: 88.5',\n",
       " 'Score: 88.5',\n",
       " 'Score: 87',\n",
       " 'Score: 87.86',\n",
       " 'Score: 88',\n",
       " 'Du kannst in jedem ',\n",
       " 'Score: 86.5',\n",
       " 'NaN',\n",
       " 'NaN',\n",
       " 'Score: 85',\n",
       " 'Score: 83']"
      ]
     },
     "execution_count": 58,
     "metadata": {},
     "output_type": "execute_result"
    }
   ],
   "source": [
    "rating"
   ]
  },
  {
   "cell_type": "code",
   "execution_count": 59,
   "id": "43d432f7-3a8a-4519-9986-e19d803b425e",
   "metadata": {},
   "outputs": [],
   "source": [
    "my_dict = {'coffee_title': coffee_title,\n",
    "          'coffee_rating': rating,\n",
    "          'coffee_variety': variety,\n",
    "          'review_text': review_text1,\n",
    "          'review_2': review_text2,\n",
    "          'price_estimation': price_estimate}"
   ]
  },
  {
   "cell_type": "code",
   "execution_count": 60,
   "id": "b61555c5-be54-4046-9621-73f71146571c",
   "metadata": {},
   "outputs": [],
   "source": [
    "espresso_grams = pd.DataFrame.from_dict(my_dict)"
   ]
  },
  {
   "cell_type": "code",
   "execution_count": 62,
   "id": "27268011-b5b3-46e4-b7ff-c2e151536c72",
   "metadata": {},
   "outputs": [],
   "source": [
    "espresso_grams['roaster'] = '19grams_coffee'"
   ]
  },
  {
   "cell_type": "code",
   "execution_count": 66,
   "id": "66080c16-1bc5-44b1-8050-b517c8812e11",
   "metadata": {},
   "outputs": [],
   "source": [
    "espresso_grams['purchase'] = espresso"
   ]
  },
  {
   "cell_type": "code",
   "execution_count": 65,
   "id": "f879f38c-7363-456e-b3d4-26c9ca3848c7",
   "metadata": {},
   "outputs": [],
   "source": [
    "espresso_grams['type'] = 'espresso'"
   ]
  },
  {
   "cell_type": "code",
   "execution_count": 67,
   "id": "1603be3f-68a7-4bc0-bf4e-f37be070f4ba",
   "metadata": {},
   "outputs": [
    {
     "data": {
      "text/html": [
       "<div>\n",
       "<style scoped>\n",
       "    .dataframe tbody tr th:only-of-type {\n",
       "        vertical-align: middle;\n",
       "    }\n",
       "\n",
       "    .dataframe tbody tr th {\n",
       "        vertical-align: top;\n",
       "    }\n",
       "\n",
       "    .dataframe thead th {\n",
       "        text-align: right;\n",
       "    }\n",
       "</style>\n",
       "<table border=\"1\" class=\"dataframe\">\n",
       "  <thead>\n",
       "    <tr style=\"text-align: right;\">\n",
       "      <th></th>\n",
       "      <th>coffee_title</th>\n",
       "      <th>coffee_rating</th>\n",
       "      <th>coffee_variety</th>\n",
       "      <th>review_text</th>\n",
       "      <th>review_2</th>\n",
       "      <th>price_estimation</th>\n",
       "      <th>roaster</th>\n",
       "      <th>purchase</th>\n",
       "      <th>type</th>\n",
       "    </tr>\n",
       "  </thead>\n",
       "  <tbody>\n",
       "    <tr>\n",
       "      <th>0</th>\n",
       "      <td>\\n                Sonora Geisha Natural - Cost...</td>\n",
       "      <td>Du kannst in jedem</td>\n",
       "      <td>Aeropress werden bei uns auf der gleichen</td>\n",
       "      <td>\\n      Ahornsirup, Mango, Aprikose\\n</td>\n",
       "      <td>[Kaffee für 40gr , Espresso, , Brühzeit: 30-35...</td>\n",
       "      <td>NaN</td>\n",
       "      <td>19grams</td>\n",
       "      <td>/collections/espresso/products/sonora-geisha-n...</td>\n",
       "      <td>espresso</td>\n",
       "    </tr>\n",
       "    <tr>\n",
       "      <th>1</th>\n",
       "      <td>\\n                Hacienda Sonora L9 - Costa R...</td>\n",
       "      <td>Score: 88.5</td>\n",
       "      <td>L9</td>\n",
       "      <td>\\n      Karamell, rote Pflaume, Milchschokolad...</td>\n",
       "      <td>[Kaffee für 40gr , Espresso, , Brühzeit: 30-35...</td>\n",
       "      <td>NaN</td>\n",
       "      <td>19grams</td>\n",
       "      <td>/collections/espresso/products/hacienda-sonora...</td>\n",
       "      <td>espresso</td>\n",
       "    </tr>\n",
       "    <tr>\n",
       "      <th>2</th>\n",
       "      <td>\\n                Simbi Natural - Ruanda Espre...</td>\n",
       "      <td>Score: 88.5</td>\n",
       "      <td>Bourbon</td>\n",
       "      <td>\\n      Toffee, Blaubeermarmelade, Feige\\n</td>\n",
       "      <td>[Kaffee für 40gr , Espresso, , Brühzeit: 30-35...</td>\n",
       "      <td>NaN</td>\n",
       "      <td>19grams</td>\n",
       "      <td>/collections/espresso/products/simbi-natural-e...</td>\n",
       "      <td>espresso</td>\n",
       "    </tr>\n",
       "    <tr>\n",
       "      <th>3</th>\n",
       "      <td>\\n                Bella Vista - Kolumbien Espr...</td>\n",
       "      <td>Score: 87</td>\n",
       "      <td>Colombia</td>\n",
       "      <td>\\n      Clementine, weiße Traube, Rohrzucker\\n...</td>\n",
       "      <td>[Kaffee für 40gr , Espresso, , Brühzeit: 30-35...</td>\n",
       "      <td>NaN</td>\n",
       "      <td>19grams</td>\n",
       "      <td>/collections/espresso/products/bella-vista-kol...</td>\n",
       "      <td>espresso</td>\n",
       "    </tr>\n",
       "    <tr>\n",
       "      <th>4</th>\n",
       "      <td>\\n                La Toma - Kolumbien Espresso...</td>\n",
       "      <td>Score: 87.86</td>\n",
       "      <td>Castillo</td>\n",
       "      <td>\\n      Haselnuss, Rohrzucker, Sternfrucht\\n</td>\n",
       "      <td>[Kaffee für 40gr , Espresso, , Brühzeit: 30-35...</td>\n",
       "      <td>NaN</td>\n",
       "      <td>19grams</td>\n",
       "      <td>/collections/espresso/products/la-toma-kolumbi...</td>\n",
       "      <td>espresso</td>\n",
       "    </tr>\n",
       "    <tr>\n",
       "      <th>5</th>\n",
       "      <td>\\n                La Granada 96h - Kolumbien E...</td>\n",
       "      <td>Score: 88</td>\n",
       "      <td>Pink</td>\n",
       "      <td>\\n      Aprikose, Marzipan, Zuckerrohr\\n</td>\n",
       "      <td>[Kaffee für 40gr , Espresso, , Brühzeit: 30-35...</td>\n",
       "      <td>NaN</td>\n",
       "      <td>19grams</td>\n",
       "      <td>/collections/espresso/products/la-granada-96h-...</td>\n",
       "      <td>espresso</td>\n",
       "    </tr>\n",
       "    <tr>\n",
       "      <th>6</th>\n",
       "      <td>\\n                Decaf - entkoffeinierter Kol...</td>\n",
       "      <td>Du kannst in jedem</td>\n",
       "      <td>Aeropress werden bei uns auf der gleichen</td>\n",
       "      <td>\\n      Reife Feige, Brauner Zucker, Dunkle Sc...</td>\n",
       "      <td>[Kaffee für 40gr , Espresso, , Brühzeit: 30-35...</td>\n",
       "      <td>\\nStückpreis\\n\\n\\n51,60 €\\n\\n/\\n pro \\nkg\\n   ...</td>\n",
       "      <td>19grams</td>\n",
       "      <td>/collections/espresso/products/entkoffeinierte...</td>\n",
       "      <td>espresso</td>\n",
       "    </tr>\n",
       "    <tr>\n",
       "      <th>7</th>\n",
       "      <td>\\n                Orang Utan Sumatra - Classic...</td>\n",
       "      <td>Score: 86.5</td>\n",
       "      <td>Tim</td>\n",
       "      <td>\\n      Karamell, Apfel, Dunkle Schokolade\\n</td>\n",
       "      <td>[Kaffee für 40gr , Espresso, , Brühzeit: 30-35...</td>\n",
       "      <td>NaN</td>\n",
       "      <td>19grams</td>\n",
       "      <td>/collections/espresso/products/orang-utan-sumatra</td>\n",
       "      <td>espresso</td>\n",
       "    </tr>\n",
       "    <tr>\n",
       "      <th>8</th>\n",
       "      <td>\\n                Wild At Heart - perfect Espr...</td>\n",
       "      <td>NaN</td>\n",
       "      <td>NaN</td>\n",
       "      <td>\\n      Karamell, Erdbeere, Schokolade\\n</td>\n",
       "      <td>NaN</td>\n",
       "      <td>NaN</td>\n",
       "      <td>19grams</td>\n",
       "      <td>/collections/espresso/products/wild-at-heart</td>\n",
       "      <td>espresso</td>\n",
       "    </tr>\n",
       "    <tr>\n",
       "      <th>9</th>\n",
       "      <td>\\n                Endless Summer - Classic Esp...</td>\n",
       "      <td>NaN</td>\n",
       "      <td>NaN</td>\n",
       "      <td>\\n      Karamell, Erdbeere, Schokolade\\n</td>\n",
       "      <td>NaN</td>\n",
       "      <td>NaN</td>\n",
       "      <td>19grams</td>\n",
       "      <td>/collections/espresso/products/endless-summer-...</td>\n",
       "      <td>espresso</td>\n",
       "    </tr>\n",
       "    <tr>\n",
       "      <th>10</th>\n",
       "      <td>\\n                Italo Disco - Classic Espres...</td>\n",
       "      <td>Score: 85</td>\n",
       "      <td>Catuaí</td>\n",
       "      <td>\\n      Dunkle Schokolade, Karamell, Kirschmar...</td>\n",
       "      <td>[Kaffee für 40gr , Espresso, , Brühzeit: 30-35...</td>\n",
       "      <td>NaN</td>\n",
       "      <td>19grams</td>\n",
       "      <td>/collections/espresso/products/italo-disco-cla...</td>\n",
       "      <td>espresso</td>\n",
       "    </tr>\n",
       "    <tr>\n",
       "      <th>11</th>\n",
       "      <td>\\n                Little Flower - Classic Espr...</td>\n",
       "      <td>Score: 83</td>\n",
       "      <td>Selection 795</td>\n",
       "      <td>\\n      Kakao, Haselnuss, Marzipan\\n</td>\n",
       "      <td>[Kaffee für 40gr , Espresso, , Brühzeit: 30-35...</td>\n",
       "      <td>NaN</td>\n",
       "      <td>19grams</td>\n",
       "      <td>/collections/espresso/products/little-flower-c...</td>\n",
       "      <td>espresso</td>\n",
       "    </tr>\n",
       "  </tbody>\n",
       "</table>\n",
       "</div>"
      ],
      "text/plain": [
       "                                         coffee_title        coffee_rating  \\\n",
       "0   \\n                Sonora Geisha Natural - Cost...  Du kannst in jedem    \n",
       "1   \\n                Hacienda Sonora L9 - Costa R...          Score: 88.5   \n",
       "2   \\n                Simbi Natural - Ruanda Espre...          Score: 88.5   \n",
       "3   \\n                Bella Vista - Kolumbien Espr...            Score: 87   \n",
       "4   \\n                La Toma - Kolumbien Espresso...         Score: 87.86   \n",
       "5   \\n                La Granada 96h - Kolumbien E...            Score: 88   \n",
       "6   \\n                Decaf - entkoffeinierter Kol...  Du kannst in jedem    \n",
       "7   \\n                Orang Utan Sumatra - Classic...          Score: 86.5   \n",
       "8   \\n                Wild At Heart - perfect Espr...                  NaN   \n",
       "9   \\n                Endless Summer - Classic Esp...                  NaN   \n",
       "10  \\n                Italo Disco - Classic Espres...            Score: 85   \n",
       "11  \\n                Little Flower - Classic Espr...            Score: 83   \n",
       "\n",
       "                                coffee_variety  \\\n",
       "0   Aeropress werden bei uns auf der gleichen    \n",
       "1                                           L9   \n",
       "2                                      Bourbon   \n",
       "3                                    Colombia    \n",
       "4                                     Castillo   \n",
       "5                                        Pink    \n",
       "6   Aeropress werden bei uns auf der gleichen    \n",
       "7                                         Tim    \n",
       "8                                          NaN   \n",
       "9                                          NaN   \n",
       "10                                     Catuaí    \n",
       "11                               Selection 795   \n",
       "\n",
       "                                          review_text  \\\n",
       "0           \\n      Ahornsirup, Mango, Aprikose\\n       \n",
       "1   \\n      Karamell, rote Pflaume, Milchschokolad...   \n",
       "2      \\n      Toffee, Blaubeermarmelade, Feige\\n       \n",
       "3   \\n      Clementine, weiße Traube, Rohrzucker\\n...   \n",
       "4    \\n      Haselnuss, Rohrzucker, Sternfrucht\\n       \n",
       "5        \\n      Aprikose, Marzipan, Zuckerrohr\\n       \n",
       "6   \\n      Reife Feige, Brauner Zucker, Dunkle Sc...   \n",
       "7    \\n      Karamell, Apfel, Dunkle Schokolade\\n       \n",
       "8        \\n      Karamell, Erdbeere, Schokolade\\n       \n",
       "9        \\n      Karamell, Erdbeere, Schokolade\\n       \n",
       "10  \\n      Dunkle Schokolade, Karamell, Kirschmar...   \n",
       "11           \\n      Kakao, Haselnuss, Marzipan\\n       \n",
       "\n",
       "                                             review_2  \\\n",
       "0   [Kaffee für 40gr , Espresso, , Brühzeit: 30-35...   \n",
       "1   [Kaffee für 40gr , Espresso, , Brühzeit: 30-35...   \n",
       "2   [Kaffee für 40gr , Espresso, , Brühzeit: 30-35...   \n",
       "3   [Kaffee für 40gr , Espresso, , Brühzeit: 30-35...   \n",
       "4   [Kaffee für 40gr , Espresso, , Brühzeit: 30-35...   \n",
       "5   [Kaffee für 40gr , Espresso, , Brühzeit: 30-35...   \n",
       "6   [Kaffee für 40gr , Espresso, , Brühzeit: 30-35...   \n",
       "7   [Kaffee für 40gr , Espresso, , Brühzeit: 30-35...   \n",
       "8                                                 NaN   \n",
       "9                                                 NaN   \n",
       "10  [Kaffee für 40gr , Espresso, , Brühzeit: 30-35...   \n",
       "11  [Kaffee für 40gr , Espresso, , Brühzeit: 30-35...   \n",
       "\n",
       "                                     price_estimation  roaster  \\\n",
       "0                                                 NaN  19grams   \n",
       "1                                                 NaN  19grams   \n",
       "2                                                 NaN  19grams   \n",
       "3                                                 NaN  19grams   \n",
       "4                                                 NaN  19grams   \n",
       "5                                                 NaN  19grams   \n",
       "6   \\nStückpreis\\n\\n\\n51,60 €\\n\\n/\\n pro \\nkg\\n   ...  19grams   \n",
       "7                                                 NaN  19grams   \n",
       "8                                                 NaN  19grams   \n",
       "9                                                 NaN  19grams   \n",
       "10                                                NaN  19grams   \n",
       "11                                                NaN  19grams   \n",
       "\n",
       "                                             purchase      type  \n",
       "0   /collections/espresso/products/sonora-geisha-n...  espresso  \n",
       "1   /collections/espresso/products/hacienda-sonora...  espresso  \n",
       "2   /collections/espresso/products/simbi-natural-e...  espresso  \n",
       "3   /collections/espresso/products/bella-vista-kol...  espresso  \n",
       "4   /collections/espresso/products/la-toma-kolumbi...  espresso  \n",
       "5   /collections/espresso/products/la-granada-96h-...  espresso  \n",
       "6   /collections/espresso/products/entkoffeinierte...  espresso  \n",
       "7   /collections/espresso/products/orang-utan-sumatra  espresso  \n",
       "8        /collections/espresso/products/wild-at-heart  espresso  \n",
       "9   /collections/espresso/products/endless-summer-...  espresso  \n",
       "10  /collections/espresso/products/italo-disco-cla...  espresso  \n",
       "11  /collections/espresso/products/little-flower-c...  espresso  "
      ]
     },
     "execution_count": 67,
     "metadata": {},
     "output_type": "execute_result"
    }
   ],
   "source": [
    "espresso_grams"
   ]
  },
  {
   "cell_type": "code",
   "execution_count": null,
   "id": "b3b59f11-e249-4b79-a519-5c3c3d3ade72",
   "metadata": {},
   "outputs": [],
   "source": []
  }
 ],
 "metadata": {
  "kernelspec": {
   "display_name": "Python 3 (ipykernel)",
   "language": "python",
   "name": "python3"
  },
  "language_info": {
   "codemirror_mode": {
    "name": "ipython",
    "version": 3
   },
   "file_extension": ".py",
   "mimetype": "text/x-python",
   "name": "python",
   "nbconvert_exporter": "python",
   "pygments_lexer": "ipython3",
   "version": "3.9.12"
  },
  "widgets": {
   "application/vnd.jupyter.widget-state+json": {
    "state": {},
    "version_major": 2,
    "version_minor": 0
   }
  }
 },
 "nbformat": 4,
 "nbformat_minor": 5
}
