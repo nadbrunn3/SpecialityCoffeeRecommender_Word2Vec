{
 "cells": [
  {
   "cell_type": "code",
   "execution_count": 1,
   "id": "e09dfd87-a2f3-4c1b-9443-d401ec5b6a41",
   "metadata": {},
   "outputs": [],
   "source": [
    "import requests\n",
    "from bs4 import BeautifulSoup\n",
    "import time\n",
    "import random\n",
    "import re\n",
    "import pandas as pd\n",
    "import numpy as np"
   ]
  },
  {
   "cell_type": "code",
   "execution_count": 46,
   "id": "d2f056b2-2000-49f9-940d-51661ebdcadc",
   "metadata": {},
   "outputs": [],
   "source": [
    "from selenium import webdriver\n",
    "from selenium.webdriver.common.keys import Keys\n"
   ]
  },
  {
   "cell_type": "code",
   "execution_count": 240,
   "id": "c72daa27-ed7c-4459-bdac-d0f1c6777182",
   "metadata": {},
   "outputs": [
    {
     "name": "stderr",
     "output_type": "stream",
     "text": [
      "/var/folders/dj/n16zrnc50j79vq_pt7btwyg40000gn/T/ipykernel_92565/2097188134.py:1: DeprecationWarning: executable_path has been deprecated, please pass in a Service object\n",
      "  driver = webdriver.Chrome('/Users/steib/Documents/chromedriver')\n"
     ]
    }
   ],
   "source": [
    "driver = webdriver.Chrome('/Users/steib/Documents/chromedriver')"
   ]
  },
  {
   "cell_type": "code",
   "execution_count": 241,
   "id": "73e83c9a-e84d-4d09-a000-809929de9c4b",
   "metadata": {},
   "outputs": [],
   "source": [
    "url = 'https://www.mistobox.com/shop'"
   ]
  },
  {
   "cell_type": "code",
   "execution_count": 242,
   "id": "74a8ff7e-4dbd-4ab6-a36b-4af861d70fbf",
   "metadata": {},
   "outputs": [],
   "source": [
    "driver.get(url)\n"
   ]
  },
  {
   "cell_type": "code",
   "execution_count": 123,
   "id": "57cde57c-6ccb-472f-ba87-da909e799faf",
   "metadata": {},
   "outputs": [],
   "source": [
    "# Scrolling the page\n"
   ]
  },
  {
   "cell_type": "code",
   "execution_count": 124,
   "id": "6af8890c-2fd8-4264-8698-e4d174eab8b4",
   "metadata": {},
   "outputs": [],
   "source": [
    "# response = requests.get(url)\n",
    "# soup = BeautifulSoup(response.content, 'html.parser')"
   ]
  },
  {
   "cell_type": "code",
   "execution_count": 125,
   "id": "8d4d072d-ed77-4415-9d4b-354b940885dc",
   "metadata": {},
   "outputs": [],
   "source": [
    "#mistobox-shop >  div.coffee-results.span12.shop-data-loaded"
   ]
  },
  {
   "cell_type": "code",
   "execution_count": 269,
   "id": "5cb8fbc0-d778-482d-83ce-3d7a89b103ce",
   "metadata": {},
   "outputs": [],
   "source": [
    "x = driver.find_elements('xpath', '//div[@class=\"coffee-result\"]/a')"
   ]
  },
  {
   "cell_type": "code",
   "execution_count": 270,
   "id": "b4ccb9b3-0cc1-4abf-b45e-ef4dbf91b666",
   "metadata": {
    "scrolled": true,
    "tags": []
   },
   "outputs": [],
   "source": [
    "url = []\n",
    "for a in x:\n",
    "    url.append(a.get_attribute('href'))"
   ]
  },
  {
   "cell_type": "markdown",
   "id": "9aff33de-e70b-4719-bd1c-86056747fca2",
   "metadata": {},
   "source": [
    "## Individual Page infos "
   ]
  },
  {
   "cell_type": "code",
   "execution_count": 271,
   "id": "52e23f97-65c1-489e-8162-d60a3fcb9fc4",
   "metadata": {},
   "outputs": [
    {
     "data": {
      "text/plain": [
       "['https://www.mistobox.com/subscriptions/index/buy?sku=PAN-1046&coffe=[object%20Object]',\n",
       " 'https://www.mistobox.com/subscriptions/index/buy?sku=SIGH-1017&coffe=[object%20Object]',\n",
       " 'https://www.mistobox.com/subscriptions/index/buy?sku=BFC-1021&coffe=[object%20Object]',\n",
       " 'https://www.mistobox.com/subscriptions/index/buy?sku=TMPL-1017&coffe=[object%20Object]',\n",
       " 'https://www.mistobox.com/subscriptions/index/buy?sku=MET-1000&coffe=[object%20Object]',\n",
       " 'https://www.mistobox.com/subscriptions/index/buy?sku=GCC-1049&coffe=[object%20Object]',\n",
       " 'https://www.mistobox.com/subscriptions/index/buy?sku=DT-1040&coffe=[object%20Object]',\n",
       " 'https://www.mistobox.com/subscriptions/index/buy?sku=KUMA-1047&coffe=[object%20Object]',\n",
       " 'https://www.mistobox.com/subscriptions/index/buy?sku=CRT-1007&coffe=[object%20Object]',\n",
       " 'https://www.mistobox.com/subscriptions/index/buy?sku=MET-1006&coffe=[object%20Object]',\n",
       " 'https://www.mistobox.com/subscriptions/index/buy?sku=ALMA-1013&coffe=[object%20Object]',\n",
       " 'https://www.mistobox.com/subscriptions/index/buy?sku=TOP-1014&coffe=[object%20Object]']"
      ]
     },
     "execution_count": 271,
     "metadata": {},
     "output_type": "execute_result"
    }
   ],
   "source": [
    "url "
   ]
  },
  {
   "cell_type": "code",
   "execution_count": 272,
   "id": "124cf2b8-c09f-4b1e-a5d1-5dd6f3ad08a3",
   "metadata": {},
   "outputs": [
    {
     "data": {
      "text/plain": [
       "['https://www.mistobox.com/subscriptions/index/buy?sku=PAN-1046&coffe=[object%20Object]',\n",
       " 'https://www.mistobox.com/subscriptions/index/buy?sku=SIGH-1017&coffe=[object%20Object]',\n",
       " 'https://www.mistobox.com/subscriptions/index/buy?sku=BFC-1021&coffe=[object%20Object]',\n",
       " 'https://www.mistobox.com/subscriptions/index/buy?sku=TMPL-1017&coffe=[object%20Object]',\n",
       " 'https://www.mistobox.com/subscriptions/index/buy?sku=MET-1000&coffe=[object%20Object]',\n",
       " 'https://www.mistobox.com/subscriptions/index/buy?sku=GCC-1049&coffe=[object%20Object]',\n",
       " 'https://www.mistobox.com/subscriptions/index/buy?sku=DT-1040&coffe=[object%20Object]',\n",
       " 'https://www.mistobox.com/subscriptions/index/buy?sku=KUMA-1047&coffe=[object%20Object]',\n",
       " 'https://www.mistobox.com/subscriptions/index/buy?sku=CRT-1007&coffe=[object%20Object]',\n",
       " 'https://www.mistobox.com/subscriptions/index/buy?sku=MET-1006&coffe=[object%20Object]',\n",
       " 'https://www.mistobox.com/subscriptions/index/buy?sku=ALMA-1013&coffe=[object%20Object]',\n",
       " 'https://www.mistobox.com/subscriptions/index/buy?sku=TOP-1014&coffe=[object%20Object]']"
      ]
     },
     "execution_count": 272,
     "metadata": {},
     "output_type": "execute_result"
    }
   ],
   "source": [
    "url"
   ]
  },
  {
   "cell_type": "code",
   "execution_count": 289,
   "id": "2508602f-2ae1-412c-bb6f-006363d2d401",
   "metadata": {},
   "outputs": [
    {
     "name": "stdout",
     "output_type": "stream",
     "text": [
      "Coffee number 0 finished\n",
      "Coffee number 1 finished\n",
      "Coffee number 2 finished\n",
      "Coffee number 3 finished\n",
      "Coffee number 4 finished\n",
      "Coffee number 5 finished\n",
      "Coffee number 6 finished\n",
      "Coffee number 7 finished\n",
      "Coffee number 8 finished\n",
      "Coffee number 9 finished\n",
      "Coffee number 10 finished\n",
      "Coffee number 11 finished\n"
     ]
    }
   ],
   "source": [
    "coffee_title= []\n",
    "roaster= []\n",
    "coffee_origin= []\n",
    "coffee_region= []\n",
    "variety= []\n",
    "farmer= []\n",
    "roast_level= []\n",
    "flavor= []\n",
    "coffee_type = []\n",
    "altitude = []\n",
    "production = []\n",
    "\n",
    "\n",
    "\n",
    "for idx, link in enumerate(url): \n",
    "    \n",
    "    response = requests.get(link)\n",
    "    soup = BeautifulSoup(response.content, 'html.parser')\n",
    "    \n",
    "    # Roaster\n",
    "    try: \n",
    "        r = soup.select_one('div.roaster-description > div').text\n",
    "        roaster.append(r)\n",
    "    except: \n",
    "        roaster.append(np.NaN)\n",
    "\n",
    "    # Coffee\n",
    "    try: \n",
    "        ct = soup.select_one('span.name').text\n",
    "        coffee_title.append(ct)\n",
    "    except:\n",
    "        coffee_title.append(np.NaN)\n",
    "\n",
    "    # Flavor\n",
    "    try: \n",
    "        x = soup.select('div.flavor_info.clearfix > div.note_block.product_page')\n",
    "        flavor.append([i.text.strip() for i in x])\n",
    "    except:\n",
    "        flavor.append(np.NaN)    \n",
    "\n",
    "    # Roast Level\n",
    "    try: \n",
    "        rl = soup.select_one('div.roast_scale > div.active').text\n",
    "        roast_level.append(rl)\n",
    "    except: \n",
    "        roast_level.append(np.NaN)\n",
    "\n",
    "    # Type\n",
    "    try: \n",
    "        typ = soup.select_one('div.type_info.clearfix> div.detail > div.active').text.strip()\n",
    "        coffee_type.append(typ)\n",
    "    except: \n",
    "        coffee_type.append(np.NaN)\n",
    "        \n",
    "        \n",
    "    # Additional Info\n",
    "    \n",
    "    ml = []\n",
    "    for text in soup.select('div.coffee-detail'):\n",
    "        ml.append((text.text.strip().replace('\\n', '')))\n",
    "        \n",
    "    for i, elem in enumerate(ml):\n",
    "        try: \n",
    "            if 'Country' in elem: \n",
    "                coffee_origin.append((idx, ml[i].split('Country')[1].strip()))\n",
    "        except: \n",
    "            coffee_origin.append(np.NaN)\n",
    "        \n",
    "        try: \n",
    "            if 'Region' in elem: \n",
    "                coffee_region.append((idx, ml[i].split('Region')[1].strip()))\n",
    "        except: \n",
    "            coffee_region.append(np.NaN)\n",
    "            \n",
    "        try: \n",
    "            if 'Altitude' in elem: \n",
    "                altitude.append((idx, ml[i].split('Altitude')[1].strip()))\n",
    "        except: \n",
    "            altitude.append(np.NaN)\n",
    "            \n",
    "        try: \n",
    "            if 'Variety' in elem: \n",
    "                variety.append((idx, ml[i].split('Variety')[1].strip()))\n",
    "        except: \n",
    "            variety.append(np.NaN)\n",
    "            \n",
    "        try: \n",
    "            if 'Producer' in elem: \n",
    "                farmer.append((idx, ml[i].split('Producer')[1].strip())) \n",
    "        except: \n",
    "            farmer.append(np.NaN)\n",
    "            \n",
    "        try:\n",
    "            if 'Process' in elem: \n",
    "                production.append((idx, ml[i].split('Producer')[1].strip()))\n",
    "        except: \n",
    "            production.append(np.NaN)\n",
    "            \n",
    "    # Respectful Scraping\n",
    "    \n",
    "    sleep = random.randint(1,2)\n",
    "    time.sleep(sleep)\n",
    "    \n",
    "    print('Coffee number {} finished'.format(idx))"
   ]
  },
  {
   "cell_type": "code",
   "execution_count": 290,
   "id": "92777269-3315-44e6-a943-6f521d023782",
   "metadata": {},
   "outputs": [
    {
     "name": "stdout",
     "output_type": "stream",
     "text": [
      "12\n",
      "12\n",
      "12\n",
      "11\n",
      "9\n",
      "9\n",
      "12\n",
      "12\n",
      "12\n",
      "11\n",
      "12\n"
     ]
    },
    {
     "data": {
      "text/plain": [
       "[(0, '1850'),\n",
       " (1, '1500-1650'),\n",
       " (3, '1000-2000'),\n",
       " (4, '1800'),\n",
       " (5, '900 - 1600'),\n",
       " (6, '1325'),\n",
       " (7, '1700-2100'),\n",
       " (8, '1250–1550'),\n",
       " (9, '1800'),\n",
       " (10, '1400'),\n",
       " (11, '1700 - 2200')]"
      ]
     },
     "execution_count": 290,
     "metadata": {},
     "output_type": "execute_result"
    }
   ],
   "source": [
    "print(len(coffee_title))\n",
    "print(len(roaster))\n",
    "print(len(coffee_origin))\n",
    "print(len(coffee_region))\n",
    "print(len(variety))\n",
    "print(len(farmer))\n",
    "print(len(roast_level))\n",
    "print(len(flavor))\n",
    "print(len(coffee_type))\n",
    "print(len(altitude))\n",
    "print(len(production))\n",
    "altitude"
   ]
  },
  {
   "cell_type": "code",
   "execution_count": 291,
   "id": "4ab309de-4fd6-4730-a281-cb05f0baea26",
   "metadata": {},
   "outputs": [],
   "source": [
    "def fill_list_with_nan(values, length = len(coffee_title)):\n",
    "    \"\"\"\n",
    "    function:  to match the rows of extracted values\n",
    "    input: values = list of values | length = length of coffees        \n",
    "    output: list of values filled in with Missing Values at not extracted idex position.\n",
    "    \"\"\"\n",
    "\n",
    "    index = []\n",
    "    text = []\n",
    "    for i in values: \n",
    "        index.append(i[0])\n",
    "        text.append(i[1])\n",
    "        \n",
    "    ml = []\n",
    "    x = 0\n",
    "    for idx, elem in enumerate(index):\n",
    "        while x < length:\n",
    "            if elem == x: \n",
    "                ml.append(text[idx])\n",
    "                x = x + 1\n",
    "                break\n",
    "            else: \n",
    "                ml.append(np.NaN)\n",
    "                x = x + 1\n",
    "    return ml  \n",
    "    "
   ]
  },
  {
   "cell_type": "code",
   "execution_count": 292,
   "id": "6540049b-1919-448b-aad5-99a5c99e81f8",
   "metadata": {},
   "outputs": [
    {
     "data": {
      "text/plain": [
       "['1850',\n",
       " '1500-1650',\n",
       " nan,\n",
       " '1000-2000',\n",
       " '1800',\n",
       " '900 - 1600',\n",
       " '1325',\n",
       " '1700-2100',\n",
       " '1250–1550',\n",
       " '1800',\n",
       " '1400',\n",
       " '1700 - 2200']"
      ]
     },
     "execution_count": 292,
     "metadata": {},
     "output_type": "execute_result"
    }
   ],
   "source": [
    "altidute = fill_list_with_nan(altitude)\n"
   ]
  },
  {
   "cell_type": "code",
   "execution_count": null,
   "id": "08de9f2b-3da0-4fe4-a413-c000184f1a31",
   "metadata": {},
   "outputs": [],
   "source": []
  }
 ],
 "metadata": {
  "kernelspec": {
   "display_name": "Python 3 (ipykernel)",
   "language": "python",
   "name": "python3"
  },
  "language_info": {
   "codemirror_mode": {
    "name": "ipython",
    "version": 3
   },
   "file_extension": ".py",
   "mimetype": "text/x-python",
   "name": "python",
   "nbconvert_exporter": "python",
   "pygments_lexer": "ipython3",
   "version": "3.9.12"
  },
  "widgets": {
   "application/vnd.jupyter.widget-state+json": {
    "state": {},
    "version_major": 2,
    "version_minor": 0
   }
  }
 },
 "nbformat": 4,
 "nbformat_minor": 5
}
